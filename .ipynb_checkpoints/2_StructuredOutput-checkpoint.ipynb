{
 "cells": [
  {
   "cell_type": "code",
   "execution_count": 2,
   "id": "30fb58ac-db77-4a9e-b539-2879e0b0c696",
   "metadata": {},
   "outputs": [],
   "source": [
    "from dotenv import load_dotenv,find_dotenv\n",
    "from langchain_core.prompts import PromptTemplate,ChatPromptTemplate\n",
    "from langchain_core.messages import SystemMessage,HumanMessage,AIMessage\n",
    "from langchain_google_genai import ChatGoogleGenerativeAI\n",
    "from langchain_openai import ChatOpenAI\n",
    "from langchain.prompts import SystemMessagePromptTemplate,HumanMessagePromptTemplate\n",
    "\n",
    "from langchain_core.runnables import RunnablePassthrough,RunnableLambda\n",
    "from langchain_core.output_parsers import StrOutputParser\n",
    "from pydantic import BaseModel, Field"
   ]
  },
  {
   "cell_type": "code",
   "execution_count": 3,
   "id": "9b5bc946-f83a-4de8-a0e3-52c21955c042",
   "metadata": {},
   "outputs": [
    {
     "data": {
      "text/plain": [
       "True"
      ]
     },
     "execution_count": 3,
     "metadata": {},
     "output_type": "execute_result"
    }
   ],
   "source": [
    "load_dotenv(dotenv_path=find_dotenv(filename=\"../.env\"))"
   ]
  },
  {
   "cell_type": "code",
   "execution_count": 4,
   "id": "64602912-759b-4208-8667-fe14e0e0f720",
   "metadata": {},
   "outputs": [],
   "source": [
    "llmGemini=ChatGoogleGenerativeAI(model=\"gemini-2.0-flash-001\")\n",
    "llmOpenAI=ChatOpenAI(model=\"gpt-4o-mini\")"
   ]
  },
  {
   "cell_type": "code",
   "execution_count": 5,
   "id": "d50abb7b-bf95-4306-b331-7082a6385222",
   "metadata": {},
   "outputs": [],
   "source": [
    "class Joke(BaseModel):\n",
    "    setup: str=Field(description=\"The Setup of the Joke\")\n",
    "    punchline: str=Field(description=\"The Punchline to the Joke\")"
   ]
  },
  {
   "cell_type": "markdown",
   "id": "35a60fff-d1c6-4f9c-88d5-d0c17aacb8c3",
   "metadata": {},
   "source": [
    "<h3> OpenAI </h3>"
   ]
  },
  {
   "cell_type": "code",
   "execution_count": 6,
   "id": "454fcd6e-cb77-4a96-b0f2-f4d2ce7840e6",
   "metadata": {},
   "outputs": [],
   "source": [
    "structuredLlm=llmOpenAI.with_structured_output(schema=Joke)"
   ]
  },
  {
   "cell_type": "code",
   "execution_count": 7,
   "id": "7cd832e6-de86-4801-b2bd-9e0e2f3ad6c3",
   "metadata": {},
   "outputs": [],
   "source": [
    "response=structuredLlm.invoke(input=\"Tell me a Joke about Cats\")"
   ]
  },
  {
   "cell_type": "code",
   "execution_count": 8,
   "id": "f17fb4cf-6700-44eb-a3e5-34b51fc1e163",
   "metadata": {},
   "outputs": [
    {
     "data": {
      "text/plain": [
       "Joke(setup='Why did the cat sit on the computer?', punchline='Because it wanted to keep an eye on the mouse!')"
      ]
     },
     "execution_count": 8,
     "metadata": {},
     "output_type": "execute_result"
    }
   ],
   "source": [
    "response"
   ]
  },
  {
   "cell_type": "code",
   "execution_count": 9,
   "id": "03696166-78b2-49e1-adc1-22c4df744032",
   "metadata": {},
   "outputs": [
    {
     "data": {
      "text/plain": [
       "('Why did the cat sit on the computer?',\n",
       " 'Because it wanted to keep an eye on the mouse!')"
      ]
     },
     "execution_count": 9,
     "metadata": {},
     "output_type": "execute_result"
    }
   ],
   "source": [
    "response.setup, response.punchline"
   ]
  },
  {
   "cell_type": "code",
   "execution_count": 10,
   "id": "b7da1ed7-64cb-423a-a6dc-fdec4bf8d25b",
   "metadata": {},
   "outputs": [],
   "source": [
    "structuredLlm=llmOpenAI.with_structured_output(schema=Joke,method='json_mode')"
   ]
  },
  {
   "cell_type": "code",
   "execution_count": 11,
   "id": "80822dd4-d2f5-4c13-a305-6b6afc3beb56",
   "metadata": {},
   "outputs": [],
   "source": [
    "responseJSON=structuredLlm.invoke(input=\"Tell me a Joke about Cats. Respond in json format with `setup` and `punchline` as keys\")"
   ]
  },
  {
   "cell_type": "code",
   "execution_count": 12,
   "id": "709061f3-07d2-48ce-bcd9-120eb9f4a8d4",
   "metadata": {},
   "outputs": [
    {
     "data": {
      "text/plain": [
       "Joke(setup='Why was the cat sitting on the computer?', punchline='Because it wanted to keep an eye on the mouse!')"
      ]
     },
     "execution_count": 12,
     "metadata": {},
     "output_type": "execute_result"
    }
   ],
   "source": [
    "responseJSON"
   ]
  },
  {
   "cell_type": "code",
   "execution_count": 13,
   "id": "31828582-2f81-4710-af7a-98f82211d970",
   "metadata": {},
   "outputs": [
    {
     "data": {
      "text/plain": [
       "{'setup': 'Why was the cat sitting on the computer?',\n",
       " 'punchline': 'Because it wanted to keep an eye on the mouse!'}"
      ]
     },
     "execution_count": 13,
     "metadata": {},
     "output_type": "execute_result"
    }
   ],
   "source": [
    "responseJSON.model_dump()"
   ]
  },
  {
   "cell_type": "code",
   "execution_count": null,
   "id": "d317b652-dea0-486f-b448-ba799156c585",
   "metadata": {},
   "outputs": [],
   "source": []
  }
 ],
 "metadata": {
  "kernelspec": {
   "display_name": "Python 3 (ipykernel)",
   "language": "python",
   "name": "python3"
  },
  "language_info": {
   "codemirror_mode": {
    "name": "ipython",
    "version": 3
   },
   "file_extension": ".py",
   "mimetype": "text/x-python",
   "name": "python",
   "nbconvert_exporter": "python",
   "pygments_lexer": "ipython3",
   "version": "3.11.11"
  }
 },
 "nbformat": 4,
 "nbformat_minor": 5
}
