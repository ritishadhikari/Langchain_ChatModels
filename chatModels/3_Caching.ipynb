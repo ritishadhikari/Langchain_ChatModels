{
 "cells": [
  {
   "cell_type": "code",
   "execution_count": 8,
   "id": "35df7a43-924a-499f-b15a-a6245823a959",
   "metadata": {},
   "outputs": [],
   "source": [
    "from dotenv import load_dotenv,find_dotenv\n",
    "from langchain_core.prompts import PromptTemplate,ChatPromptTemplate\n",
    "from langchain_core.messages import SystemMessage,HumanMessage,AIMessage\n",
    "from langchain_google_genai import ChatGoogleGenerativeAI\n",
    "from langchain_openai import ChatOpenAI\n",
    "from langchain.prompts import SystemMessagePromptTemplate,HumanMessagePromptTemplate\n",
    "\n",
    "from langchain.globals import set_llm_cache\n",
    "from langchain.cache import InMemoryCache,SQLiteCache"
   ]
  },
  {
   "cell_type": "code",
   "execution_count": 2,
   "id": "5b9010a7-7d35-4719-822c-bc6b3416b6be",
   "metadata": {},
   "outputs": [
    {
     "data": {
      "text/plain": [
       "True"
      ]
     },
     "execution_count": 2,
     "metadata": {},
     "output_type": "execute_result"
    }
   ],
   "source": [
    "load_dotenv(dotenv_path=find_dotenv(filename=\"D:\\LLM Courses\\Master Langchain Udemy\\.env\"))"
   ]
  },
  {
   "cell_type": "code",
   "execution_count": 3,
   "id": "bdb2f68f-6d1f-4130-96f4-47e7664708cb",
   "metadata": {},
   "outputs": [],
   "source": [
    "llmGemini=ChatGoogleGenerativeAI(model=\"gemini-1.5-flash\")\n",
    "llmOpenAI=ChatOpenAI(model=\"gpt-3.5-turbo\")"
   ]
  },
  {
   "cell_type": "code",
   "execution_count": 4,
   "id": "70b15170-449c-432e-bbb4-b9bc2edfa683",
   "metadata": {},
   "outputs": [],
   "source": [
    "joke=\"Tell me a Joke about Rohit Sharma\""
   ]
  },
  {
   "cell_type": "markdown",
   "id": "933d11d1-c616-4d08-8924-26e6f493cc09",
   "metadata": {},
   "source": [
    "<h3> In Memory Cache </h3>"
   ]
  },
  {
   "cell_type": "code",
   "execution_count": 5,
   "id": "d165169e-8c17-4932-aa5a-d6d7bf01088c",
   "metadata": {},
   "outputs": [],
   "source": [
    "set_llm_cache(value=InMemoryCache())"
   ]
  },
  {
   "cell_type": "code",
   "execution_count": 6,
   "id": "21d3cbaf-94ee-4a06-aaab-00bb536d7ebd",
   "metadata": {},
   "outputs": [
    {
     "name": "stdout",
     "output_type": "stream",
     "text": [
      "CPU times: total: 0 ns\n",
      "Wall time: 1.97 s\n"
     ]
    },
    {
     "data": {
      "text/plain": [
       "AIMessage(content='Why did Rohit Sharma bring a ladder to the cricket match? \\n\\nBecause he wanted to get a better view of the ball... after it had already gone for six! 😉 \\n', additional_kwargs={}, response_metadata={'prompt_feedback': {'block_reason': 0, 'safety_ratings': []}, 'finish_reason': 'STOP', 'safety_ratings': [{'category': 'HARM_CATEGORY_SEXUALLY_EXPLICIT', 'probability': 'NEGLIGIBLE', 'blocked': False}, {'category': 'HARM_CATEGORY_HATE_SPEECH', 'probability': 'NEGLIGIBLE', 'blocked': False}, {'category': 'HARM_CATEGORY_HARASSMENT', 'probability': 'NEGLIGIBLE', 'blocked': False}, {'category': 'HARM_CATEGORY_DANGEROUS_CONTENT', 'probability': 'NEGLIGIBLE', 'blocked': False}]}, id='run-e1ff98a2-ceb3-4b42-ba9a-3bd14a94dee0-0', usage_metadata={'input_tokens': 8, 'output_tokens': 35, 'total_tokens': 43})"
      ]
     },
     "execution_count": 6,
     "metadata": {},
     "output_type": "execute_result"
    }
   ],
   "source": [
    "%%time\n",
    "# First time not in the cache\n",
    "llmGemini.invoke(input=joke)"
   ]
  },
  {
   "cell_type": "code",
   "execution_count": 7,
   "id": "648af540-eca3-4beb-9eb0-635ad7c77534",
   "metadata": {},
   "outputs": [
    {
     "name": "stdout",
     "output_type": "stream",
     "text": [
      "CPU times: total: 0 ns\n",
      "Wall time: 1e+03 μs\n"
     ]
    },
    {
     "data": {
      "text/plain": [
       "AIMessage(content='Why did Rohit Sharma bring a ladder to the cricket match? \\n\\nBecause he wanted to get a better view of the ball... after it had already gone for six! 😉 \\n', additional_kwargs={}, response_metadata={'prompt_feedback': {'block_reason': 0, 'safety_ratings': []}, 'finish_reason': 'STOP', 'safety_ratings': [{'category': 'HARM_CATEGORY_SEXUALLY_EXPLICIT', 'probability': 'NEGLIGIBLE', 'blocked': False}, {'category': 'HARM_CATEGORY_HATE_SPEECH', 'probability': 'NEGLIGIBLE', 'blocked': False}, {'category': 'HARM_CATEGORY_HARASSMENT', 'probability': 'NEGLIGIBLE', 'blocked': False}, {'category': 'HARM_CATEGORY_DANGEROUS_CONTENT', 'probability': 'NEGLIGIBLE', 'blocked': False}]}, id='run-e1ff98a2-ceb3-4b42-ba9a-3bd14a94dee0-0', usage_metadata={'input_tokens': 8, 'output_tokens': 35, 'total_tokens': 43})"
      ]
     },
     "execution_count": 7,
     "metadata": {},
     "output_type": "execute_result"
    }
   ],
   "source": [
    "%%time\n",
    "# This time in the cache\n",
    "llmGemini.invoke(input=joke)"
   ]
  },
  {
   "cell_type": "markdown",
   "id": "695e5f0a-f396-4fff-a5d1-190e664b0d97",
   "metadata": {},
   "source": [
    "<h3>SQLite Cache</h3>"
   ]
  },
  {
   "cell_type": "code",
   "execution_count": 10,
   "id": "23242d1b-09ac-4446-a78e-08523ed8e5ba",
   "metadata": {},
   "outputs": [],
   "source": [
    "joke=\"Tell me a Joke about Virat Kohli\""
   ]
  },
  {
   "cell_type": "code",
   "execution_count": 9,
   "id": "6bc5b36f-177c-47a4-a9ed-545a5fb2153d",
   "metadata": {},
   "outputs": [],
   "source": [
    "set_llm_cache(value=SQLiteCache(database_path=\".langchain.db\"))"
   ]
  },
  {
   "cell_type": "code",
   "execution_count": 11,
   "id": "48c02082-c081-4736-8470-051a9b05bf1d",
   "metadata": {},
   "outputs": [
    {
     "name": "stdout",
     "output_type": "stream",
     "text": [
      "CPU times: total: 15.6 ms\n",
      "Wall time: 1.06 s\n"
     ]
    },
    {
     "data": {
      "text/plain": [
       "AIMessage(content=\"Why did Virat Kohli get a job at the bank?\\n\\nBecause he's a master at handling pressure and chasing big targets! 🏏💰 \\n\", additional_kwargs={}, response_metadata={'prompt_feedback': {'block_reason': 0, 'safety_ratings': []}, 'finish_reason': 'STOP', 'safety_ratings': [{'category': 'HARM_CATEGORY_SEXUALLY_EXPLICIT', 'probability': 'NEGLIGIBLE', 'blocked': False}, {'category': 'HARM_CATEGORY_HATE_SPEECH', 'probability': 'NEGLIGIBLE', 'blocked': False}, {'category': 'HARM_CATEGORY_HARASSMENT', 'probability': 'NEGLIGIBLE', 'blocked': False}, {'category': 'HARM_CATEGORY_DANGEROUS_CONTENT', 'probability': 'NEGLIGIBLE', 'blocked': False}]}, id='run-c31f6527-1cf0-4f77-819d-c84ea74c12ed-0', usage_metadata={'input_tokens': 8, 'output_tokens': 29, 'total_tokens': 37})"
      ]
     },
     "execution_count": 11,
     "metadata": {},
     "output_type": "execute_result"
    }
   ],
   "source": [
    "%%time\n",
    "# First time not in the cache\n",
    "llmGemini.invoke(input=joke)"
   ]
  },
  {
   "cell_type": "code",
   "execution_count": 12,
   "id": "ff65af21-2f6c-42de-a9be-7a17349a6cf3",
   "metadata": {},
   "outputs": [
    {
     "name": "stdout",
     "output_type": "stream",
     "text": [
      "CPU times: total: 500 ms\n",
      "Wall time: 504 ms\n"
     ]
    },
    {
     "data": {
      "text/plain": [
       "AIMessage(content=\"Why did Virat Kohli get a job at the bank?\\n\\nBecause he's a master at handling pressure and chasing big targets! 🏏💰 \\n\", additional_kwargs={}, response_metadata={'prompt_feedback': {'block_reason': 0, 'safety_ratings': []}, 'finish_reason': 'STOP', 'safety_ratings': [{'category': 'HARM_CATEGORY_SEXUALLY_EXPLICIT', 'probability': 'NEGLIGIBLE', 'blocked': False}, {'category': 'HARM_CATEGORY_HATE_SPEECH', 'probability': 'NEGLIGIBLE', 'blocked': False}, {'category': 'HARM_CATEGORY_HARASSMENT', 'probability': 'NEGLIGIBLE', 'blocked': False}, {'category': 'HARM_CATEGORY_DANGEROUS_CONTENT', 'probability': 'NEGLIGIBLE', 'blocked': False}]}, id='run-c31f6527-1cf0-4f77-819d-c84ea74c12ed-0', usage_metadata={'input_tokens': 8, 'output_tokens': 29, 'total_tokens': 37})"
      ]
     },
     "execution_count": 12,
     "metadata": {},
     "output_type": "execute_result"
    }
   ],
   "source": [
    "%%time\n",
    "# This time in the cache\n",
    "llmGemini.invoke(input=joke)"
   ]
  },
  {
   "cell_type": "code",
   "execution_count": null,
   "id": "0129e347-ec6c-48b5-87b0-708a3aaca977",
   "metadata": {},
   "outputs": [],
   "source": []
  }
 ],
 "metadata": {
  "kernelspec": {
   "display_name": "Python 3 (ipykernel)",
   "language": "python",
   "name": "python3"
  },
  "language_info": {
   "codemirror_mode": {
    "name": "ipython",
    "version": 3
   },
   "file_extension": ".py",
   "mimetype": "text/x-python",
   "name": "python",
   "nbconvert_exporter": "python",
   "pygments_lexer": "ipython3",
   "version": "3.11.9"
  }
 },
 "nbformat": 4,
 "nbformat_minor": 5
}
