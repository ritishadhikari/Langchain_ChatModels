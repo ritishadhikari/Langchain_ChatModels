{
 "cells": [
  {
   "cell_type": "code",
   "execution_count": 80,
   "id": "602ca6d0-cf9f-4fce-8623-3d40e02bb9bd",
   "metadata": {},
   "outputs": [],
   "source": [
    "from dotenv import load_dotenv,find_dotenv\n",
    "from langchain_core.prompts import PromptTemplate,ChatPromptTemplate\n",
    "from langchain_core.messages import SystemMessage,HumanMessage,AIMessage\n",
    "from langchain_google_genai import ChatGoogleGenerativeAI\n",
    "from langchain_openai import ChatOpenAI\n",
    "from langchain.prompts import SystemMessagePromptTemplate,HumanMessagePromptTemplate\n",
    "\n",
    "from langchain_core.tools import tool\n",
    "from langchain_core.pydantic_v1 import BaseModel, Field\n",
    "from langchain.output_parsers import PydanticToolsParser\n",
    "from langchain_core.messages import ToolMessage\n",
    "from langchain_core.runnables import RunnablePassthrough"
   ]
  },
  {
   "cell_type": "code",
   "execution_count": 2,
   "id": "71d7991e-85de-4932-b397-6d790d24838e",
   "metadata": {},
   "outputs": [
    {
     "data": {
      "text/plain": [
       "True"
      ]
     },
     "execution_count": 2,
     "metadata": {},
     "output_type": "execute_result"
    }
   ],
   "source": [
    "load_dotenv(dotenv_path=find_dotenv(filename=\"D:\\LLM Courses\\Master Langchain Udemy\\.env\"))"
   ]
  },
  {
   "cell_type": "code",
   "execution_count": 3,
   "id": "b1436e8f-29a6-4e7f-91cc-fac55c67dcda",
   "metadata": {},
   "outputs": [],
   "source": [
    "llmGemini=ChatGoogleGenerativeAI(model=\"gemini-1.5-flash\")\n",
    "llmOpenAI=ChatOpenAI(model=\"gpt-3.5-turbo\")"
   ]
  },
  {
   "cell_type": "code",
   "execution_count": 70,
   "id": "673e08e9-8e37-4a2b-85e2-a9223fdae616",
   "metadata": {},
   "outputs": [],
   "source": [
    "@tool\n",
    "def add(a:int,b:int) -> int:\n",
    "    \"\"\"\n",
    "        Adds a and b\n",
    "    Args:\n",
    "        a: first int\n",
    "        b: second int\n",
    "    \"\"\"\n",
    "    return a+b"
   ]
  },
  {
   "cell_type": "code",
   "execution_count": 71,
   "id": "81e54830-cec4-475f-922f-30a2c74832fb",
   "metadata": {},
   "outputs": [],
   "source": [
    "@tool\n",
    "def multiply(a:int,b:int) -> int:\n",
    "    \"\"\"\n",
    "        Multiplies a and b\n",
    "    Args:\n",
    "        a: first int\n",
    "        b: second int\n",
    "    \"\"\"\n",
    "    return a*b"
   ]
  },
  {
   "cell_type": "code",
   "execution_count": 72,
   "id": "b4a0dc45-e907-4dcf-8f1d-c6aab7e45930",
   "metadata": {},
   "outputs": [],
   "source": [
    "tools=[add,multiply]"
   ]
  },
  {
   "cell_type": "code",
   "execution_count": 48,
   "id": "dec902d6-98e0-43cd-8142-eea14e16bb96",
   "metadata": {},
   "outputs": [],
   "source": [
    "class add(BaseModel):\n",
    "    \"\"\"\n",
    "        Add two integers togather\n",
    "    \"\"\"\n",
    "    a: int=Field(default=...,description=\"First Integer\")\n",
    "    b: int=Field(default=...,description=\"Second Integer\")"
   ]
  },
  {
   "cell_type": "code",
   "execution_count": 49,
   "id": "1bd457ec-a1cf-449e-be91-7c778607b34b",
   "metadata": {},
   "outputs": [],
   "source": [
    "class multiply(BaseModel):\n",
    "    \"\"\"\n",
    "        Multiplies two integers togather\n",
    "    \"\"\"\n",
    "    a: int=Field(default=...,description=\"First Integer\")\n",
    "    b: int=Field(default=...,description=\"Second Integer\")"
   ]
  },
  {
   "cell_type": "code",
   "execution_count": 50,
   "id": "83ce9779-f1da-495e-a2b4-58b064ceceee",
   "metadata": {},
   "outputs": [
    {
     "data": {
      "text/plain": [
       "Ellipsis"
      ]
     },
     "execution_count": 50,
     "metadata": {},
     "output_type": "execute_result"
    }
   ],
   "source": [
    "..."
   ]
  },
  {
   "cell_type": "code",
   "execution_count": 51,
   "id": "77343316-4884-4993-bca2-464aef7c8e18",
   "metadata": {},
   "outputs": [],
   "source": [
    "tools=[add,multiply]"
   ]
  },
  {
   "cell_type": "code",
   "execution_count": 52,
   "id": "26e3bbe9-c8bb-4e01-9bed-896d9d0947c4",
   "metadata": {},
   "outputs": [
    {
     "name": "stderr",
     "output_type": "stream",
     "text": [
      "Key 'title' is not supported in schema, ignoring\n",
      "Key 'title' is not supported in schema, ignoring\n",
      "Key 'title' is not supported in schema, ignoring\n",
      "Key 'title' is not supported in schema, ignoring\n",
      "Key 'title' is not supported in schema, ignoring\n",
      "Key 'title' is not supported in schema, ignoring\n"
     ]
    }
   ],
   "source": [
    "llmWithTools=llmGemini.bind_tools(\n",
    "    tools=tools\n",
    ")"
   ]
  },
  {
   "cell_type": "code",
   "execution_count": 53,
   "id": "5ee629e2-a197-43c4-914a-133084b43f78",
   "metadata": {},
   "outputs": [
    {
     "name": "stderr",
     "output_type": "stream",
     "text": [
      "Key 'title' is not supported in schema, ignoring\n",
      "Key 'title' is not supported in schema, ignoring\n",
      "Key 'title' is not supported in schema, ignoring\n",
      "Key 'title' is not supported in schema, ignoring\n",
      "Key 'title' is not supported in schema, ignoring\n",
      "Key 'title' is not supported in schema, ignoring\n"
     ]
    }
   ],
   "source": [
    "llmWithAlwaysCall=llmGemini.bind_tools(tools=tools,\n",
    "                                  tool_choice=\"any\"  # atleast call one tool, replace with multiply or add for preference\n",
    "                                 )"
   ]
  },
  {
   "cell_type": "code",
   "execution_count": 54,
   "id": "c230fb5a-c61f-420d-a54f-f7faacc8e57c",
   "metadata": {},
   "outputs": [
    {
     "name": "stderr",
     "output_type": "stream",
     "text": [
      "Key 'title' is not supported in schema, ignoring\n",
      "Key 'title' is not supported in schema, ignoring\n",
      "Key 'title' is not supported in schema, ignoring\n",
      "Key 'title' is not supported in schema, ignoring\n",
      "Key 'title' is not supported in schema, ignoring\n",
      "Key 'title' is not supported in schema, ignoring\n"
     ]
    }
   ],
   "source": [
    "llmWithMultiply=llmGemini.bind_tools(tools=tools,\n",
    "                                  tool_choice=\"multiply\"  # atleast call one tool, replace with multiply or add for preference\n",
    "                                 )"
   ]
  },
  {
   "cell_type": "code",
   "execution_count": 55,
   "id": "eb6a4086-62d2-418d-84ab-b9b2513143f7",
   "metadata": {},
   "outputs": [],
   "source": [
    "query=\"What is  3*12? Also, what is 11+49?\""
   ]
  },
  {
   "cell_type": "code",
   "execution_count": 56,
   "id": "18a61182-fd7b-4c18-abad-52cf4cd7a8f3",
   "metadata": {},
   "outputs": [
    {
     "data": {
      "text/plain": [
       "[{'name': 'multiply',\n",
       "  'args': {'a': 3.0, 'b': 12.0},\n",
       "  'id': 'db5ff35f-775f-4b5a-bb79-eb4cb9a939d6',\n",
       "  'type': 'tool_call'},\n",
       " {'name': 'add',\n",
       "  'args': {'a': 11.0, 'b': 49.0},\n",
       "  'id': 'f46a9c85-89a9-4b88-ae43-5cb765a69ae4',\n",
       "  'type': 'tool_call'}]"
      ]
     },
     "execution_count": 56,
     "metadata": {},
     "output_type": "execute_result"
    }
   ],
   "source": [
    "llmWithTools.invoke(input=query).tool_calls"
   ]
  },
  {
   "cell_type": "code",
   "execution_count": 57,
   "id": "dc0384de-8851-4e91-a232-c947c65f83d4",
   "metadata": {},
   "outputs": [],
   "source": [
    "chain=llmWithTools|PydanticToolsParser(tools=[multiply,add])"
   ]
  },
  {
   "cell_type": "code",
   "execution_count": 58,
   "id": "08d37c7b-a63f-47cc-a4ab-06baa50f1968",
   "metadata": {},
   "outputs": [
    {
     "data": {
      "text/plain": [
       "[multiply(a=3, b=12), add(a=11, b=49)]"
      ]
     },
     "execution_count": 58,
     "metadata": {},
     "output_type": "execute_result"
    }
   ],
   "source": [
    "chain.invoke(input=query)"
   ]
  },
  {
   "cell_type": "markdown",
   "id": "a7a472ee-e8da-4384-9004-4f79fa12f1d8",
   "metadata": {},
   "source": [
    "<h3>Streaming</h3>"
   ]
  },
  {
   "cell_type": "code",
   "execution_count": 59,
   "id": "9a0fdf46-4baa-4355-a35d-4a33adca184f",
   "metadata": {},
   "outputs": [
    {
     "name": "stdout",
     "output_type": "stream",
     "text": [
      "[{'name': 'multiply', 'args': '{\"a\": 3.0, \"b\": 12.0}', 'id': '488a4da9-2d86-4c98-ba87-5b22c84f30d4', 'index': None, 'type': 'tool_call_chunk'}]\n",
      "[{'name': 'add', 'args': '{\"a\": 11.0, \"b\": 49.0}', 'id': '270efb5b-0b8d-41c6-88de-aaca68a412f0', 'index': None, 'type': 'tool_call_chunk'}]\n"
     ]
    }
   ],
   "source": [
    "async for chunk in llmWithTools.astream(input=query):\n",
    "    print(chunk.tool_call_chunks)"
   ]
  },
  {
   "cell_type": "code",
   "execution_count": 60,
   "id": "d124c94b-c06d-48de-b6ab-3ad32c8c3858",
   "metadata": {},
   "outputs": [
    {
     "name": "stdout",
     "output_type": "stream",
     "text": [
      "[{'name': 'multiply', 'args': '{\"a\": 3.0, \"b\": 12.0}', 'id': '7f5bf406-1d26-4662-b23d-72783f076e4e', 'index': None, 'type': 'tool_call_chunk'}, {'name': 'add', 'args': '{\"a\": 11.0, \"b\": 49.0}', 'id': '878647a4-e7fa-450e-80e2-810e5f0adb6f', 'index': None, 'type': 'tool_call_chunk'}]\n"
     ]
    }
   ],
   "source": [
    "# Accumulating Chunks\n",
    "first=True\n",
    "async for chunk in llmWithTools.astream(input=query):\n",
    "    if first:\n",
    "        gathered=chunk\n",
    "        first=False\n",
    "    else:\n",
    "        gathered+=chunk\n",
    "\n",
    "    print(gathered.tool_call_chunks)"
   ]
  },
  {
   "cell_type": "code",
   "execution_count": 61,
   "id": "aab6a9d7-4215-4e03-9f1b-aad524517f87",
   "metadata": {},
   "outputs": [
    {
     "name": "stdout",
     "output_type": "stream",
     "text": [
      "[{'name': 'multiply', 'args': {'a': 3.0, 'b': 12.0}, 'id': '7cfdad35-c20f-4127-bf4c-cbf1011979e8', 'type': 'tool_call'}, {'name': 'add', 'args': {'a': 11.0, 'b': 49.0}, 'id': '290c7bae-2375-484f-9421-b2378bbf545d', 'type': 'tool_call'}]\n"
     ]
    }
   ],
   "source": [
    "# Accumulating Chunks\n",
    "first=True\n",
    "async for chunk in llmWithTools.astream(input=query):\n",
    "    if first:\n",
    "        gathered=chunk\n",
    "        first=False\n",
    "    else:\n",
    "        gathered+=chunk\n",
    "\n",
    "    print(gathered.tool_calls)"
   ]
  },
  {
   "cell_type": "markdown",
   "id": "5ab38321-4f1a-4714-863c-7613623d41e4",
   "metadata": {},
   "source": [
    "<h3>Passing Tool Outputs to Models</h3>"
   ]
  },
  {
   "cell_type": "code",
   "execution_count": 62,
   "id": "1b53a5b6-5aca-4f7c-ab31-28c3fbc33deb",
   "metadata": {},
   "outputs": [],
   "source": [
    "messages=[HumanMessage(query)]"
   ]
  },
  {
   "cell_type": "code",
   "execution_count": 63,
   "id": "47556bb1-f658-45ee-a28e-a2a12f24bceb",
   "metadata": {},
   "outputs": [
    {
     "data": {
      "text/plain": [
       "[HumanMessage(content='What is  3*12? Also, what is 11+49?', additional_kwargs={}, response_metadata={})]"
      ]
     },
     "execution_count": 63,
     "metadata": {},
     "output_type": "execute_result"
    }
   ],
   "source": [
    "messages"
   ]
  },
  {
   "cell_type": "code",
   "execution_count": 64,
   "id": "f889a010-2e31-4e46-be87-da75ec8caa0c",
   "metadata": {},
   "outputs": [
    {
     "data": {
      "text/plain": [
       "AIMessage(content='\\n', additional_kwargs={'function_call': {'name': 'add', 'arguments': '{\"a\": 11.0, \"b\": 49.0}'}}, response_metadata={'prompt_feedback': {'block_reason': 0, 'safety_ratings': []}, 'finish_reason': 'STOP', 'safety_ratings': [{'category': 'HARM_CATEGORY_HATE_SPEECH', 'probability': 'NEGLIGIBLE', 'blocked': False}, {'category': 'HARM_CATEGORY_SEXUALLY_EXPLICIT', 'probability': 'NEGLIGIBLE', 'blocked': False}, {'category': 'HARM_CATEGORY_DANGEROUS_CONTENT', 'probability': 'NEGLIGIBLE', 'blocked': False}, {'category': 'HARM_CATEGORY_HARASSMENT', 'probability': 'NEGLIGIBLE', 'blocked': False}]}, id='run-72c80189-1976-4dab-8023-e539d9f9eb3c-0', tool_calls=[{'name': 'multiply', 'args': {'a': 3.0, 'b': 12.0}, 'id': '4046785d-e924-40ca-a019-f88009737f9b', 'type': 'tool_call'}, {'name': 'add', 'args': {'a': 11.0, 'b': 49.0}, 'id': '3cb55886-9c11-4ff1-bb66-5c95b7ee3971', 'type': 'tool_call'}], usage_metadata={'input_tokens': 113, 'output_tokens': 41, 'total_tokens': 154})"
      ]
     },
     "execution_count": 64,
     "metadata": {},
     "output_type": "execute_result"
    }
   ],
   "source": [
    "aiMessage=llmWithTools.invoke(input=messages)\n",
    "aiMessage"
   ]
  },
  {
   "cell_type": "code",
   "execution_count": 65,
   "id": "6afc6e75-4177-485a-ba21-03676e16f33e",
   "metadata": {},
   "outputs": [
    {
     "data": {
      "text/plain": [
       "[{'name': 'multiply',\n",
       "  'args': {'a': 3.0, 'b': 12.0},\n",
       "  'id': '4046785d-e924-40ca-a019-f88009737f9b',\n",
       "  'type': 'tool_call'},\n",
       " {'name': 'add',\n",
       "  'args': {'a': 11.0, 'b': 49.0},\n",
       "  'id': '3cb55886-9c11-4ff1-bb66-5c95b7ee3971',\n",
       "  'type': 'tool_call'}]"
      ]
     },
     "execution_count": 65,
     "metadata": {},
     "output_type": "execute_result"
    }
   ],
   "source": [
    "aiMessage.tool_calls"
   ]
  },
  {
   "cell_type": "code",
   "execution_count": 66,
   "id": "207ac465-22f9-4b71-8f54-ed10a75dfe87",
   "metadata": {},
   "outputs": [],
   "source": [
    "messages.append(aiMessage)"
   ]
  },
  {
   "cell_type": "code",
   "execution_count": 67,
   "id": "b55e2f8b-a90e-42dc-91a4-7597e67640cb",
   "metadata": {},
   "outputs": [
    {
     "data": {
      "text/plain": [
       "[HumanMessage(content='What is  3*12? Also, what is 11+49?', additional_kwargs={}, response_metadata={}),\n",
       " AIMessage(content='\\n', additional_kwargs={'function_call': {'name': 'add', 'arguments': '{\"a\": 11.0, \"b\": 49.0}'}}, response_metadata={'prompt_feedback': {'block_reason': 0, 'safety_ratings': []}, 'finish_reason': 'STOP', 'safety_ratings': [{'category': 'HARM_CATEGORY_HATE_SPEECH', 'probability': 'NEGLIGIBLE', 'blocked': False}, {'category': 'HARM_CATEGORY_SEXUALLY_EXPLICIT', 'probability': 'NEGLIGIBLE', 'blocked': False}, {'category': 'HARM_CATEGORY_DANGEROUS_CONTENT', 'probability': 'NEGLIGIBLE', 'blocked': False}, {'category': 'HARM_CATEGORY_HARASSMENT', 'probability': 'NEGLIGIBLE', 'blocked': False}]}, id='run-72c80189-1976-4dab-8023-e539d9f9eb3c-0', tool_calls=[{'name': 'multiply', 'args': {'a': 3.0, 'b': 12.0}, 'id': '4046785d-e924-40ca-a019-f88009737f9b', 'type': 'tool_call'}, {'name': 'add', 'args': {'a': 11.0, 'b': 49.0}, 'id': '3cb55886-9c11-4ff1-bb66-5c95b7ee3971', 'type': 'tool_call'}], usage_metadata={'input_tokens': 113, 'output_tokens': 41, 'total_tokens': 154})]"
      ]
     },
     "execution_count": 67,
     "metadata": {},
     "output_type": "execute_result"
    }
   ],
   "source": [
    "messages"
   ]
  },
  {
   "cell_type": "code",
   "execution_count": 46,
   "id": "ceed20f7-357c-4f96-a76a-178d24548132",
   "metadata": {},
   "outputs": [
    {
     "data": {
      "text/plain": [
       "ToolMessage(content='60', tool_call_id='0ab77964-1afb-4f8c-82ea-74f55f5c0e12')"
      ]
     },
     "execution_count": 46,
     "metadata": {},
     "output_type": "execute_result"
    }
   ],
   "source": [
    "# Illustrations\n",
    "ToolMessage(content=add.invoke(input= {'a': 11.0, 'b': 49.0}),tool_call_id='0ab77964-1afb-4f8c-82ea-74f55f5c0e12')"
   ]
  },
  {
   "cell_type": "code",
   "execution_count": 73,
   "id": "ae5a96ee-8c1c-4c0f-be7f-85a41faefcd1",
   "metadata": {},
   "outputs": [],
   "source": [
    "for toolCall in aiMessage.tool_calls:\n",
    "    selectedTool={\"add\":add,\"multiply\":multiply}[toolCall['name'].lower()]\n",
    "    toolOutput=selectedTool.invoke(input=toolCall['args'])\n",
    "    messages.append(ToolMessage(content=toolOutput,tool_call_id=toolCall['id']))"
   ]
  },
  {
   "cell_type": "code",
   "execution_count": 74,
   "id": "671b0e70-7e26-41af-ae8e-4725baa66988",
   "metadata": {},
   "outputs": [
    {
     "data": {
      "text/plain": [
       "[HumanMessage(content='What is  3*12? Also, what is 11+49?', additional_kwargs={}, response_metadata={}),\n",
       " AIMessage(content='\\n', additional_kwargs={'function_call': {'name': 'add', 'arguments': '{\"a\": 11.0, \"b\": 49.0}'}}, response_metadata={'prompt_feedback': {'block_reason': 0, 'safety_ratings': []}, 'finish_reason': 'STOP', 'safety_ratings': [{'category': 'HARM_CATEGORY_HATE_SPEECH', 'probability': 'NEGLIGIBLE', 'blocked': False}, {'category': 'HARM_CATEGORY_SEXUALLY_EXPLICIT', 'probability': 'NEGLIGIBLE', 'blocked': False}, {'category': 'HARM_CATEGORY_DANGEROUS_CONTENT', 'probability': 'NEGLIGIBLE', 'blocked': False}, {'category': 'HARM_CATEGORY_HARASSMENT', 'probability': 'NEGLIGIBLE', 'blocked': False}]}, id='run-72c80189-1976-4dab-8023-e539d9f9eb3c-0', tool_calls=[{'name': 'multiply', 'args': {'a': 3.0, 'b': 12.0}, 'id': '4046785d-e924-40ca-a019-f88009737f9b', 'type': 'tool_call'}, {'name': 'add', 'args': {'a': 11.0, 'b': 49.0}, 'id': '3cb55886-9c11-4ff1-bb66-5c95b7ee3971', 'type': 'tool_call'}], usage_metadata={'input_tokens': 113, 'output_tokens': 41, 'total_tokens': 154}),\n",
       " ToolMessage(content='36', tool_call_id='4046785d-e924-40ca-a019-f88009737f9b'),\n",
       " ToolMessage(content='60', tool_call_id='3cb55886-9c11-4ff1-bb66-5c95b7ee3971')]"
      ]
     },
     "execution_count": 74,
     "metadata": {},
     "output_type": "execute_result"
    }
   ],
   "source": [
    "messages"
   ]
  },
  {
   "cell_type": "markdown",
   "id": "cbb107d9-0d26-4328-b426-d238e5d7ab24",
   "metadata": {},
   "source": [
    "<h3>Few Shot Prompting</h3>"
   ]
  },
  {
   "cell_type": "code",
   "execution_count": 78,
   "id": "1713a6af-add1-4866-8f1d-93154de18083",
   "metadata": {},
   "outputs": [],
   "source": [
    "examples=[\n",
    "    HumanMessage(\n",
    "        content=\"What's the product of 317253 and 128472 plus four\",\n",
    "        name=\"exampleUser\"\n",
    "    ),\n",
    "    AIMessage(\n",
    "        content=\"\",\n",
    "        name=\"exampleAssistant\",\n",
    "        tool_calls=[\n",
    "            {\"name\":\"multiply\",\"args\":{\"x\":317253,\"y\":128472},\"id\":\"1\"}\n",
    "        ]\n",
    "    ),\n",
    "    ToolMessage(content=\"16505054784\",tool_call_id=\"1\"),\n",
    "    AIMessage(\n",
    "        content=\"\",\n",
    "        name=\"exampleAssistant\",\n",
    "        tool_calls=[\n",
    "            {\"name\":\"add\",\"args\":{\"x\":16505054784,\"y\":4},\"id\":\"2\"}\n",
    "        ]\n",
    "    ),\n",
    "    ToolMessage(content=\"16505054784\",tool_call_id=\"2\"),\n",
    "    AIMessage(\n",
    "        content=\"The product of 317253 and 128472 plus four is 16505054784\",\n",
    "        name=\"exampleAssistant\"\n",
    "    ),\n",
    "]"
   ]
  },
  {
   "cell_type": "code",
   "execution_count": 79,
   "id": "3910090e-7600-44af-a01e-0a2f7dd1aea1",
   "metadata": {},
   "outputs": [],
   "source": [
    "fewShotPromptTemplate=ChatPromptTemplate.from_messages(\n",
    "    [\n",
    "        (\"system\",\"\"\" \n",
    "                You are bad at math but are an expert at using a calculator. \n",
    "                Use past tool usage as an example of how to correctly use the tools.\n",
    "        \"\"\"),\n",
    "        *examples,\n",
    "        (\"human\",\"{query}\")\n",
    "    ]\n",
    ")"
   ]
  },
  {
   "cell_type": "code",
   "execution_count": 81,
   "id": "8e872646-8387-4f58-b9d9-5397cec947a5",
   "metadata": {},
   "outputs": [],
   "source": [
    "chain=RunnablePassthrough()|fewShotPromptTemplate|llmWithTools"
   ]
  },
  {
   "cell_type": "code",
   "execution_count": 85,
   "id": "5c806279-826f-4982-b74a-f42adb63cd96",
   "metadata": {},
   "outputs": [],
   "source": [
    "response=chain.invoke(input={'query':'What is 119 times 8 minus 20'})"
   ]
  },
  {
   "cell_type": "code",
   "execution_count": 86,
   "id": "08c02d6b-5eea-42da-b993-041d2755fcc3",
   "metadata": {},
   "outputs": [
    {
     "data": {
      "text/plain": [
       "AIMessage(content='', additional_kwargs={'function_call': {'name': 'multiply', 'arguments': '{\"a\": 119.0, \"b\": 8.0}'}}, response_metadata={'prompt_feedback': {'block_reason': 0, 'safety_ratings': []}, 'finish_reason': 'STOP', 'safety_ratings': [{'category': 'HARM_CATEGORY_HATE_SPEECH', 'probability': 'NEGLIGIBLE', 'blocked': False}, {'category': 'HARM_CATEGORY_SEXUALLY_EXPLICIT', 'probability': 'NEGLIGIBLE', 'blocked': False}, {'category': 'HARM_CATEGORY_DANGEROUS_CONTENT', 'probability': 'NEGLIGIBLE', 'blocked': False}, {'category': 'HARM_CATEGORY_HARASSMENT', 'probability': 'NEGLIGIBLE', 'blocked': False}]}, id='run-f2c1f71d-7c7a-491f-994b-8770e8b31647-0', tool_calls=[{'name': 'multiply', 'args': {'a': 119.0, 'b': 8.0}, 'id': '08828331-42cc-4b90-a7b6-6e8bb7b40358', 'type': 'tool_call'}], usage_metadata={'input_tokens': 252, 'output_tokens': 20, 'total_tokens': 272})"
      ]
     },
     "execution_count": 86,
     "metadata": {},
     "output_type": "execute_result"
    }
   ],
   "source": [
    "response"
   ]
  },
  {
   "cell_type": "code",
   "execution_count": 88,
   "id": "a5d48e1c-722c-4ef8-9002-933b439f353f",
   "metadata": {},
   "outputs": [
    {
     "data": {
      "text/plain": [
       "[{'name': 'multiply',\n",
       "  'args': {'a': 119.0, 'b': 8.0},\n",
       "  'id': '08828331-42cc-4b90-a7b6-6e8bb7b40358',\n",
       "  'type': 'tool_call'}]"
      ]
     },
     "execution_count": 88,
     "metadata": {},
     "output_type": "execute_result"
    }
   ],
   "source": [
    "response.tool_calls"
   ]
  },
  {
   "cell_type": "code",
   "execution_count": null,
   "id": "767c02ee-3a5f-4c2c-9393-245132772eb0",
   "metadata": {},
   "outputs": [],
   "source": []
  }
 ],
 "metadata": {
  "kernelspec": {
   "display_name": "Python 3 (ipykernel)",
   "language": "python",
   "name": "python3"
  },
  "language_info": {
   "codemirror_mode": {
    "name": "ipython",
    "version": 3
   },
   "file_extension": ".py",
   "mimetype": "text/x-python",
   "name": "python",
   "nbconvert_exporter": "python",
   "pygments_lexer": "ipython3",
   "version": "3.11.9"
  }
 },
 "nbformat": 4,
 "nbformat_minor": 5
}
