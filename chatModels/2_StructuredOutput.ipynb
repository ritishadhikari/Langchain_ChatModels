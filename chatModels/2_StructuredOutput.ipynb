{
 "cells": [
  {
   "cell_type": "code",
   "execution_count": 31,
   "id": "30fb58ac-db77-4a9e-b539-2879e0b0c696",
   "metadata": {},
   "outputs": [],
   "source": [
    "from dotenv import load_dotenv,find_dotenv\n",
    "from langchain_core.prompts import PromptTemplate,ChatPromptTemplate\n",
    "from langchain_core.messages import SystemMessage,HumanMessage,AIMessage\n",
    "from langchain_google_genai import ChatGoogleGenerativeAI\n",
    "from langchain_openai import ChatOpenAI\n",
    "from langchain.prompts import SystemMessagePromptTemplate,HumanMessagePromptTemplate\n",
    "\n",
    "from langchain_core.runnables import RunnablePassthrough,RunnableLambda\n",
    "from langchain_core.output_parsers import StrOutputParser\n",
    "from langchain_core.pydantic_v1 import BaseModel, Field"
   ]
  },
  {
   "cell_type": "code",
   "execution_count": 32,
   "id": "9b5bc946-f83a-4de8-a0e3-52c21955c042",
   "metadata": {},
   "outputs": [
    {
     "data": {
      "text/plain": [
       "True"
      ]
     },
     "execution_count": 32,
     "metadata": {},
     "output_type": "execute_result"
    }
   ],
   "source": [
    "load_dotenv(dotenv_path=find_dotenv(filename=\"D:\\LLM Courses\\Master Langchain Udemy\\.env\"))"
   ]
  },
  {
   "cell_type": "code",
   "execution_count": 33,
   "id": "64602912-759b-4208-8667-fe14e0e0f720",
   "metadata": {},
   "outputs": [],
   "source": [
    "llmGemini=ChatGoogleGenerativeAI(model=\"gemini-1.5-flash\")\n",
    "llmOpenAI=ChatOpenAI(model=\"gpt-3.5-turbo\")"
   ]
  },
  {
   "cell_type": "code",
   "execution_count": 23,
   "id": "d50abb7b-bf95-4306-b331-7082a6385222",
   "metadata": {},
   "outputs": [],
   "source": [
    "class Joke(BaseModel):\n",
    "    setup: str=Field(description=\"The Setup of the Joke\")\n",
    "    punchline: str=Field(description=\"The Punchline to the Joke\")"
   ]
  },
  {
   "cell_type": "markdown",
   "id": "35a60fff-d1c6-4f9c-88d5-d0c17aacb8c3",
   "metadata": {},
   "source": [
    "<h3> OpenAI </h3>"
   ]
  },
  {
   "cell_type": "code",
   "execution_count": 7,
   "id": "454fcd6e-cb77-4a96-b0f2-f4d2ce7840e6",
   "metadata": {},
   "outputs": [],
   "source": [
    "structuredLlm=llmOpenAI.with_structured_output(schema=Joke)"
   ]
  },
  {
   "cell_type": "code",
   "execution_count": 10,
   "id": "7cd832e6-de86-4801-b2bd-9e0e2f3ad6c3",
   "metadata": {},
   "outputs": [],
   "source": [
    "response=structuredLlm.invoke(input=\"Tell me a Joke about Cats\")"
   ]
  },
  {
   "cell_type": "code",
   "execution_count": 11,
   "id": "f17fb4cf-6700-44eb-a3e5-34b51fc1e163",
   "metadata": {},
   "outputs": [
    {
     "data": {
      "text/plain": [
       "Joke(setup='Why was the cat sitting on the computer?', punchline='He wanted to keep an eye on the mouse!')"
      ]
     },
     "execution_count": 11,
     "metadata": {},
     "output_type": "execute_result"
    }
   ],
   "source": [
    "response"
   ]
  },
  {
   "cell_type": "code",
   "execution_count": 14,
   "id": "03696166-78b2-49e1-adc1-22c4df744032",
   "metadata": {},
   "outputs": [
    {
     "data": {
      "text/plain": [
       "('Why was the cat sitting on the computer?',\n",
       " 'He wanted to keep an eye on the mouse!')"
      ]
     },
     "execution_count": 14,
     "metadata": {},
     "output_type": "execute_result"
    }
   ],
   "source": [
    "response.setup, response.punchline"
   ]
  },
  {
   "cell_type": "code",
   "execution_count": 15,
   "id": "b7da1ed7-64cb-423a-a6dc-fdec4bf8d25b",
   "metadata": {},
   "outputs": [],
   "source": [
    "structuredLlm=llmOpenAI.with_structured_output(schema=Joke,method='json_mode')"
   ]
  },
  {
   "cell_type": "code",
   "execution_count": 20,
   "id": "80822dd4-d2f5-4c13-a305-6b6afc3beb56",
   "metadata": {},
   "outputs": [],
   "source": [
    "responseJSON=structuredLlm.invoke(input=\"Tell me a Joke about Cats. Respond in json format with `setup` and `punchline` as keys\")"
   ]
  },
  {
   "cell_type": "code",
   "execution_count": 21,
   "id": "709061f3-07d2-48ce-bcd9-120eb9f4a8d4",
   "metadata": {},
   "outputs": [
    {
     "data": {
      "text/plain": [
       "Joke(setup='Why was the cat sitting on the computer?', punchline='Because it wanted to keep an eye on the mouse!')"
      ]
     },
     "execution_count": 21,
     "metadata": {},
     "output_type": "execute_result"
    }
   ],
   "source": [
    "responseJSON"
   ]
  }
 ],
 "metadata": {
  "kernelspec": {
   "display_name": "Python 3 (ipykernel)",
   "language": "python",
   "name": "python3"
  },
  "language_info": {
   "codemirror_mode": {
    "name": "ipython",
    "version": 3
   },
   "file_extension": ".py",
   "mimetype": "text/x-python",
   "name": "python",
   "nbconvert_exporter": "python",
   "pygments_lexer": "ipython3",
   "version": "3.11.9"
  }
 },
 "nbformat": 4,
 "nbformat_minor": 5
}
