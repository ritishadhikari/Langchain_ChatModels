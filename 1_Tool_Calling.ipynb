{
 "cells": [
  {
   "cell_type": "code",
   "execution_count": null,
   "id": "602ca6d0-cf9f-4fce-8623-3d40e02bb9bd",
   "metadata": {},
   "outputs": [],
   "source": [
    "from dotenv import load_dotenv,find_dotenv\n",
    "from langchain_core.prompts import PromptTemplate,ChatPromptTemplate\n",
    "from langchain_core.messages import SystemMessage,HumanMessage,AIMessage\n",
    "from langchain_google_genai import ChatGoogleGenerativeAI\n",
    "from langchain_openai import ChatOpenAI\n",
    "from langchain.prompts import (SystemMessagePromptTemplate,\n",
    "                    HumanMessagePromptTemplate)\n",
    "\n",
    "from langchain_core.tools import tool\n",
    "from pydantic import BaseModel, Field\n",
    "from langchain.output_parsers import PydanticToolsParser\n",
    "from langchain_core.messages import ToolMessage\n",
    "from langchain_core.runnables import RunnablePassthrough"
   ]
  },
  {
   "cell_type": "code",
   "execution_count": 6,
   "id": "71d7991e-85de-4932-b397-6d790d24838e",
   "metadata": {},
   "outputs": [
    {
     "data": {
      "text/plain": [
       "True"
      ]
     },
     "execution_count": 6,
     "metadata": {},
     "output_type": "execute_result"
    }
   ],
   "source": [
    "load_dotenv(dotenv_path=find_dotenv(filename=\"../.env\"))"
   ]
  },
  {
   "cell_type": "code",
   "execution_count": 7,
   "id": "b1436e8f-29a6-4e7f-91cc-fac55c67dcda",
   "metadata": {},
   "outputs": [],
   "source": [
    "llmGemini=ChatGoogleGenerativeAI(model=\"gemini-2.0-flash-001\")\n",
    "llmOpenAI=ChatOpenAI(model=\"gpt-4o-mini\")"
   ]
  },
  {
   "cell_type": "code",
   "execution_count": 8,
   "id": "673e08e9-8e37-4a2b-85e2-a9223fdae616",
   "metadata": {},
   "outputs": [],
   "source": [
    "@tool\n",
    "def add(a:int,b:int) -> int:\n",
    "    \"\"\"\n",
    "        Adds a and b\n",
    "    Args:\n",
    "        a: first int\n",
    "        b: second int\n",
    "    \"\"\"\n",
    "    return a+b"
   ]
  },
  {
   "cell_type": "code",
   "execution_count": 10,
   "id": "81e54830-cec4-475f-922f-30a2c74832fb",
   "metadata": {},
   "outputs": [],
   "source": [
    "@tool\n",
    "def multiply(a:int,b:int) -> int:\n",
    "    \"\"\"\n",
    "        Multiplies a and b\n",
    "    Args:\n",
    "        a: first int\n",
    "        b: second int\n",
    "    \"\"\"\n",
    "    return a*b"
   ]
  },
  {
   "cell_type": "code",
   "execution_count": 11,
   "id": "1bcb4cba-01fe-4ba2-9563-8cb2cb454cf5",
   "metadata": {},
   "outputs": [],
   "source": [
    "### tools=[add,multiply]"
   ]
  },
  {
   "cell_type": "code",
   "execution_count": 12,
   "id": "dec902d6-98e0-43cd-8142-eea14e16bb96",
   "metadata": {},
   "outputs": [],
   "source": [
    "class add(BaseModel):\n",
    "    \"\"\"\n",
    "        Add two integers togather\n",
    "    \"\"\"\n",
    "    a: int=Field(default=...,description=\"First Integer\")\n",
    "    b: int=Field(default=...,description=\"Second Integer\")"
   ]
  },
  {
   "cell_type": "code",
   "execution_count": 13,
   "id": "1bd457ec-a1cf-449e-be91-7c778607b34b",
   "metadata": {},
   "outputs": [],
   "source": [
    "class multiply(BaseModel):\n",
    "    \"\"\"\n",
    "        Multiplies two integers togather\n",
    "    \"\"\"\n",
    "    a: int=Field(default=...,description=\"First Integer\")\n",
    "    b: int=Field(default=...,description=\"Second Integer\")"
   ]
  },
  {
   "cell_type": "code",
   "execution_count": 14,
   "id": "83ce9779-f1da-495e-a2b4-58b064ceceee",
   "metadata": {},
   "outputs": [
    {
     "data": {
      "text/plain": [
       "Ellipsis"
      ]
     },
     "execution_count": 14,
     "metadata": {},
     "output_type": "execute_result"
    }
   ],
   "source": [
    "..."
   ]
  },
  {
   "cell_type": "code",
   "execution_count": 15,
   "id": "77343316-4884-4993-bca2-464aef7c8e18",
   "metadata": {},
   "outputs": [],
   "source": [
    "tools=[add,multiply]"
   ]
  },
  {
   "cell_type": "code",
   "execution_count": 16,
   "id": "26e3bbe9-c8bb-4e01-9bed-896d9d0947c4",
   "metadata": {},
   "outputs": [],
   "source": [
    "llmWithTools=llmGemini.bind_tools(\n",
    "    tools=tools\n",
    ")"
   ]
  },
  {
   "cell_type": "code",
   "execution_count": 17,
   "id": "5ee629e2-a197-43c4-914a-133084b43f78",
   "metadata": {},
   "outputs": [],
   "source": [
    "llmWithAlwaysCall=llmGemini.bind_tools(tools=tools,\n",
    "                                  tool_choice=\"any\"  # atleast call one tool, replace with multiply or add for preference\n",
    "                                 )"
   ]
  },
  {
   "cell_type": "code",
   "execution_count": 18,
   "id": "c230fb5a-c61f-420d-a54f-f7faacc8e57c",
   "metadata": {},
   "outputs": [],
   "source": [
    "llmWithMultiply=llmGemini.bind_tools(tools=tools,\n",
    "                                  tool_choice=\"multiply\"  # atleast call one tool, replace with multiply or add for preference\n",
    "                                 )"
   ]
  },
  {
   "cell_type": "code",
   "execution_count": 19,
   "id": "eb6a4086-62d2-418d-84ab-b9b2513143f7",
   "metadata": {},
   "outputs": [],
   "source": [
    "query=\"What is  3*12? Also, what is 11+49?\""
   ]
  },
  {
   "cell_type": "code",
   "execution_count": 21,
   "id": "18a61182-fd7b-4c18-abad-52cf4cd7a8f3",
   "metadata": {},
   "outputs": [
    {
     "data": {
      "text/plain": [
       "[{'name': 'multiply',\n",
       "  'args': {'a': 3.0, 'b': 12.0},\n",
       "  'id': '2a86be73-d417-411b-83dd-9b00e2312784',\n",
       "  'type': 'tool_call'},\n",
       " {'name': 'add',\n",
       "  'args': {'a': 11.0, 'b': 49.0},\n",
       "  'id': 'df41a2cc-ce86-44c1-9fd5-ed7470adcd5d',\n",
       "  'type': 'tool_call'}]"
      ]
     },
     "execution_count": 21,
     "metadata": {},
     "output_type": "execute_result"
    }
   ],
   "source": [
    "llmWithTools.invoke(input=query).tool_calls"
   ]
  },
  {
   "cell_type": "code",
   "execution_count": 22,
   "id": "b5a84bd5-ba88-4bb6-b138-5735a550d44e",
   "metadata": {},
   "outputs": [
    {
     "data": {
      "text/plain": [
       "[{'name': 'multiply',\n",
       "  'args': {'a': 3.0, 'b': 12.0},\n",
       "  'id': '13e175ff-8b18-404d-917a-eaf34d312367',\n",
       "  'type': 'tool_call'},\n",
       " {'name': 'add',\n",
       "  'args': {'a': 11.0, 'b': 49.0},\n",
       "  'id': '09135a74-270c-45b8-928c-c7fed6a628e5',\n",
       "  'type': 'tool_call'}]"
      ]
     },
     "execution_count": 22,
     "metadata": {},
     "output_type": "execute_result"
    }
   ],
   "source": [
    "llmWithAlwaysCall.invoke(input=query).tool_calls"
   ]
  },
  {
   "cell_type": "code",
   "execution_count": 23,
   "id": "1563fe96-1db5-4b3f-8c2f-13bedc463990",
   "metadata": {},
   "outputs": [
    {
     "data": {
      "text/plain": [
       "[{'name': 'multiply',\n",
       "  'args': {'a': 3.0, 'b': 12.0},\n",
       "  'id': 'f6713886-d16b-43b6-97e7-7b2a408f0f2c',\n",
       "  'type': 'tool_call'}]"
      ]
     },
     "execution_count": 23,
     "metadata": {},
     "output_type": "execute_result"
    }
   ],
   "source": [
    "llmWithMultiply.invoke(input=query).tool_calls"
   ]
  },
  {
   "cell_type": "code",
   "execution_count": 24,
   "id": "dc0384de-8851-4e91-a232-c947c65f83d4",
   "metadata": {},
   "outputs": [],
   "source": [
    "chain=llmWithAlwaysCall|PydanticToolsParser(tools=[multiply,add])"
   ]
  },
  {
   "cell_type": "code",
   "execution_count": 25,
   "id": "08d37c7b-a63f-47cc-a4ab-06baa50f1968",
   "metadata": {},
   "outputs": [
    {
     "data": {
      "text/plain": [
       "[multiply(a=3, b=12), add(a=11, b=49)]"
      ]
     },
     "execution_count": 25,
     "metadata": {},
     "output_type": "execute_result"
    }
   ],
   "source": [
    "chain.invoke(input=query)"
   ]
  },
  {
   "cell_type": "markdown",
   "id": "a7a472ee-e8da-4384-9004-4f79fa12f1d8",
   "metadata": {},
   "source": [
    "<h3>Streaming</h3>"
   ]
  },
  {
   "cell_type": "code",
   "execution_count": 26,
   "id": "9a0fdf46-4baa-4355-a35d-4a33adca184f",
   "metadata": {},
   "outputs": [
    {
     "name": "stdout",
     "output_type": "stream",
     "text": [
      "[{'name': 'multiply', 'args': '{\"a\": 3.0, \"b\": 12.0}', 'id': 'e3612043-6183-49d4-85e2-430896168033', 'index': None, 'type': 'tool_call_chunk'}, {'name': 'add', 'args': '{\"a\": 11.0, \"b\": 49.0}', 'id': 'a7c0e236-7457-474e-bf00-20a2ac2732a9', 'index': None, 'type': 'tool_call_chunk'}]\n"
     ]
    }
   ],
   "source": [
    "async for chunk in llmWithTools.astream(input=query):\n",
    "    print(chunk.tool_call_chunks)"
   ]
  },
  {
   "cell_type": "code",
   "execution_count": 30,
   "id": "42ab83d8-3e0e-454d-8d40-2cca8ad4ddd2",
   "metadata": {},
   "outputs": [
    {
     "name": "stdout",
     "output_type": "stream",
     "text": [
      "[{'name': 'multiply', 'args': {'a': 3.0, 'b': 12.0}, 'id': '475ee482-75c3-4214-8af4-423123109dea', 'type': 'tool_call'}, {'name': 'add', 'args': {'a': 11.0, 'b': 49.0}, 'id': '844b2c73-d86c-4def-89e6-b5efb5c33ff1', 'type': 'tool_call'}]\n"
     ]
    }
   ],
   "source": [
    "async for chunk in llmWithTools.astream(input=query):\n",
    "    print(chunk.tool_calls)"
   ]
  },
  {
   "cell_type": "code",
   "execution_count": 29,
   "id": "d814410a-09aa-4c1e-9016-6a03ac30339c",
   "metadata": {},
   "outputs": [
    {
     "name": "stdout",
     "output_type": "stream",
     "text": [
      "content='' additional_kwargs={'function_call': {'name': 'add', 'arguments': '{\"a\": 11.0, \"b\": 49.0}'}} response_metadata={'finish_reason': 'STOP', 'model_name': 'gemini-2.0-flash-001', 'safety_ratings': []} id='run-4120e713-d08c-4aac-b21f-b2952fc09c57' tool_calls=[{'name': 'multiply', 'args': {'a': 3.0, 'b': 12.0}, 'id': 'a932662c-020a-4b61-9350-3f5f2399cdac', 'type': 'tool_call'}, {'name': 'add', 'args': {'a': 11.0, 'b': 49.0}, 'id': '8ef963ca-a26e-400a-bae3-37e1f307cdb7', 'type': 'tool_call'}] usage_metadata={'input_tokens': 54, 'output_tokens': 10, 'total_tokens': 64, 'input_token_details': {'cache_read': 0}} tool_call_chunks=[{'name': 'multiply', 'args': '{\"a\": 3.0, \"b\": 12.0}', 'id': 'a932662c-020a-4b61-9350-3f5f2399cdac', 'index': None, 'type': 'tool_call_chunk'}, {'name': 'add', 'args': '{\"a\": 11.0, \"b\": 49.0}', 'id': '8ef963ca-a26e-400a-bae3-37e1f307cdb7', 'index': None, 'type': 'tool_call_chunk'}] \n",
      "\n"
     ]
    }
   ],
   "source": [
    "async for chunk in llmWithTools.astream(input=query):\n",
    "    print(chunk,\"\\n\")"
   ]
  },
  {
   "cell_type": "code",
   "execution_count": 31,
   "id": "d124c94b-c06d-48de-b6ab-3ad32c8c3858",
   "metadata": {},
   "outputs": [
    {
     "name": "stdout",
     "output_type": "stream",
     "text": [
      "[{'name': 'multiply', 'args': '{\"a\": 3.0, \"b\": 12.0}', 'id': '6497e820-4eec-4f73-8185-3fe737c5e613', 'index': None, 'type': 'tool_call_chunk'}, {'name': 'add', 'args': '{\"a\": 11.0, \"b\": 49.0}', 'id': 'bfad0728-ded3-4cad-bebe-77ea5c5ddc3b', 'index': None, 'type': 'tool_call_chunk'}] \n",
      "\n",
      "content='' additional_kwargs={'function_call': {'name': 'add', 'arguments': '{\"a\": 11.0, \"b\": 49.0}'}} response_metadata={'finish_reason': 'STOP', 'model_name': 'gemini-2.0-flash-001', 'safety_ratings': []} id='run-99c27dbf-3f99-4fa5-b698-79689dd29a7e' tool_calls=[{'name': 'multiply', 'args': {'a': 3.0, 'b': 12.0}, 'id': '6497e820-4eec-4f73-8185-3fe737c5e613', 'type': 'tool_call'}, {'name': 'add', 'args': {'a': 11.0, 'b': 49.0}, 'id': 'bfad0728-ded3-4cad-bebe-77ea5c5ddc3b', 'type': 'tool_call'}] usage_metadata={'input_tokens': 54, 'output_tokens': 10, 'total_tokens': 64, 'input_token_details': {'cache_read': 0}} tool_call_chunks=[{'name': 'multiply', 'args': '{\"a\": 3.0, \"b\": 12.0}', 'id': '6497e820-4eec-4f73-8185-3fe737c5e613', 'index': None, 'type': 'tool_call_chunk'}, {'name': 'add', 'args': '{\"a\": 11.0, \"b\": 49.0}', 'id': 'bfad0728-ded3-4cad-bebe-77ea5c5ddc3b', 'index': None, 'type': 'tool_call_chunk'}]\n"
     ]
    }
   ],
   "source": [
    "# Accumulating Chunks\n",
    "first=True\n",
    "async for chunk in llmWithTools.astream(input=query):\n",
    "    if first:\n",
    "        gathered=chunk\n",
    "        first=False\n",
    "    else:\n",
    "        gathered+=chunk\n",
    "\n",
    "    print(gathered.tool_call_chunks,\"\\n\")\n",
    "print(gathered)"
   ]
  },
  {
   "cell_type": "code",
   "execution_count": 32,
   "id": "aab6a9d7-4215-4e03-9f1b-aad524517f87",
   "metadata": {},
   "outputs": [
    {
     "name": "stdout",
     "output_type": "stream",
     "text": [
      "[{'name': 'multiply', 'args': {'a': 3.0, 'b': 12.0}, 'id': '037fee0d-7802-4534-90d7-2bb0399752b5', 'type': 'tool_call'}, {'name': 'add', 'args': {'a': 11.0, 'b': 49.0}, 'id': '4cd3ed2e-1149-4df0-9fc0-4a9a32a79efd', 'type': 'tool_call'}]\n"
     ]
    }
   ],
   "source": [
    "# Accumulating Chunks\n",
    "first=True\n",
    "async for chunk in llmWithTools.astream(input=query):\n",
    "    if first:\n",
    "        gathered=chunk\n",
    "        first=False\n",
    "    else:\n",
    "        gathered+=chunk\n",
    "\n",
    "    print(gathered.tool_calls)"
   ]
  },
  {
   "cell_type": "markdown",
   "id": "5ab38321-4f1a-4714-863c-7613623d41e4",
   "metadata": {},
   "source": [
    "<h3>Passing Tool Outputs to Models</h3>"
   ]
  },
  {
   "cell_type": "code",
   "execution_count": 39,
   "id": "1b53a5b6-5aca-4f7c-ab31-28c3fbc33deb",
   "metadata": {},
   "outputs": [],
   "source": [
    "messages=[HumanMessage(query)]"
   ]
  },
  {
   "cell_type": "code",
   "execution_count": 40,
   "id": "47556bb1-f658-45ee-a28e-a2a12f24bceb",
   "metadata": {},
   "outputs": [
    {
     "data": {
      "text/plain": [
       "[HumanMessage(content='What is  3*12? Also, what is 11+49?', additional_kwargs={}, response_metadata={})]"
      ]
     },
     "execution_count": 40,
     "metadata": {},
     "output_type": "execute_result"
    }
   ],
   "source": [
    "messages"
   ]
  },
  {
   "cell_type": "code",
   "execution_count": 41,
   "id": "f889a010-2e31-4e46-be87-da75ec8caa0c",
   "metadata": {},
   "outputs": [
    {
     "data": {
      "text/plain": [
       "AIMessage(content='', additional_kwargs={'function_call': {'name': 'add', 'arguments': '{\"a\": 11.0, \"b\": 49.0}'}}, response_metadata={'prompt_feedback': {'block_reason': 0, 'safety_ratings': []}, 'finish_reason': 'STOP', 'model_name': 'gemini-2.0-flash-001', 'safety_ratings': []}, id='run-0bfc3495-4560-484c-b8fa-55cf0ee8869b-0', tool_calls=[{'name': 'multiply', 'args': {'a': 3.0, 'b': 12.0}, 'id': 'fbf011b2-3253-4f49-a725-00dbc4239680', 'type': 'tool_call'}, {'name': 'add', 'args': {'a': 11.0, 'b': 49.0}, 'id': '46bebb35-c8bc-4b59-a30d-ce0c4bf4fc8e', 'type': 'tool_call'}], usage_metadata={'input_tokens': 54, 'output_tokens': 10, 'total_tokens': 64, 'input_token_details': {'cache_read': 0}})"
      ]
     },
     "execution_count": 41,
     "metadata": {},
     "output_type": "execute_result"
    }
   ],
   "source": [
    "aiMessage=llmWithTools.invoke(input=messages)\n",
    "aiMessage"
   ]
  },
  {
   "cell_type": "code",
   "execution_count": 43,
   "id": "a2c50a02-a925-4c04-bc3f-b1ea739d8064",
   "metadata": {},
   "outputs": [
    {
     "data": {
      "text/plain": [
       "AIMessage(content='', additional_kwargs={'function_call': {'name': 'add', 'arguments': '{\"a\": 11.0, \"b\": 49.0}'}}, response_metadata={'prompt_feedback': {'block_reason': 0, 'safety_ratings': []}, 'finish_reason': 'STOP', 'model_name': 'gemini-2.0-flash-001', 'safety_ratings': []}, id='run-3fbf18a5-498c-44c8-8a3e-b718555c71de-0', tool_calls=[{'name': 'multiply', 'args': {'a': 3.0, 'b': 12.0}, 'id': 'e98b0b35-9e3e-4e4f-bf73-0ca779dcf366', 'type': 'tool_call'}, {'name': 'add', 'args': {'a': 11.0, 'b': 49.0}, 'id': 'd024a1e1-3717-489d-8b16-b1ac02dc018a', 'type': 'tool_call'}], usage_metadata={'input_tokens': 54, 'output_tokens': 10, 'total_tokens': 64, 'input_token_details': {'cache_read': 0}})"
      ]
     },
     "execution_count": 43,
     "metadata": {},
     "output_type": "execute_result"
    }
   ],
   "source": [
    "llmWithAlwaysCall.invoke(input=messages)"
   ]
  },
  {
   "cell_type": "code",
   "execution_count": 44,
   "id": "6afc6e75-4177-485a-ba21-03676e16f33e",
   "metadata": {},
   "outputs": [
    {
     "data": {
      "text/plain": [
       "[{'name': 'multiply',\n",
       "  'args': {'a': 3.0, 'b': 12.0},\n",
       "  'id': 'fbf011b2-3253-4f49-a725-00dbc4239680',\n",
       "  'type': 'tool_call'},\n",
       " {'name': 'add',\n",
       "  'args': {'a': 11.0, 'b': 49.0},\n",
       "  'id': '46bebb35-c8bc-4b59-a30d-ce0c4bf4fc8e',\n",
       "  'type': 'tool_call'}]"
      ]
     },
     "execution_count": 44,
     "metadata": {},
     "output_type": "execute_result"
    }
   ],
   "source": [
    "aiMessage.tool_calls"
   ]
  },
  {
   "cell_type": "code",
   "execution_count": 45,
   "id": "207ac465-22f9-4b71-8f54-ed10a75dfe87",
   "metadata": {},
   "outputs": [],
   "source": [
    "messages.append(aiMessage)"
   ]
  },
  {
   "cell_type": "code",
   "execution_count": 46,
   "id": "b55e2f8b-a90e-42dc-91a4-7597e67640cb",
   "metadata": {},
   "outputs": [
    {
     "data": {
      "text/plain": [
       "[HumanMessage(content='What is  3*12? Also, what is 11+49?', additional_kwargs={}, response_metadata={}),\n",
       " AIMessage(content='', additional_kwargs={'function_call': {'name': 'add', 'arguments': '{\"a\": 11.0, \"b\": 49.0}'}}, response_metadata={'prompt_feedback': {'block_reason': 0, 'safety_ratings': []}, 'finish_reason': 'STOP', 'model_name': 'gemini-2.0-flash-001', 'safety_ratings': []}, id='run-0bfc3495-4560-484c-b8fa-55cf0ee8869b-0', tool_calls=[{'name': 'multiply', 'args': {'a': 3.0, 'b': 12.0}, 'id': 'fbf011b2-3253-4f49-a725-00dbc4239680', 'type': 'tool_call'}, {'name': 'add', 'args': {'a': 11.0, 'b': 49.0}, 'id': '46bebb35-c8bc-4b59-a30d-ce0c4bf4fc8e', 'type': 'tool_call'}], usage_metadata={'input_tokens': 54, 'output_tokens': 10, 'total_tokens': 64, 'input_token_details': {'cache_read': 0}})]"
      ]
     },
     "execution_count": 46,
     "metadata": {},
     "output_type": "execute_result"
    }
   ],
   "source": [
    "messages"
   ]
  },
  {
   "cell_type": "code",
   "execution_count": 48,
   "id": "fd49dfeb-66c0-4b86-8011-cd3e585327e4",
   "metadata": {},
   "outputs": [],
   "source": [
    "@tool\n",
    "def add(a:int,b:int) -> int:\n",
    "    \"\"\"\n",
    "        Adds a and b\n",
    "    Args:\n",
    "        a: first int\n",
    "        b: second int\n",
    "    \"\"\"\n",
    "    return a+b\n",
    "\n",
    "@tool\n",
    "def multiply(a:int,b:int) -> int:\n",
    "    \"\"\"\n",
    "        Multiplies a and b\n",
    "    Args:\n",
    "        a: first int\n",
    "        b: second int\n",
    "    \"\"\"\n",
    "    return a*b"
   ]
  },
  {
   "cell_type": "code",
   "execution_count": 51,
   "id": "ceed20f7-357c-4f96-a76a-178d24548132",
   "metadata": {},
   "outputs": [
    {
     "data": {
      "text/plain": [
       "ToolMessage(content='60', tool_call_id='0ab77964-1afb-4f8c-82ea-74f55f5c0e12')"
      ]
     },
     "execution_count": 51,
     "metadata": {},
     "output_type": "execute_result"
    }
   ],
   "source": [
    "# Illustrations\n",
    "ToolMessage(content=add.invoke(input= {'a': 11.0, 'b': 49.0}),tool_call_id='0ab77964-1afb-4f8c-82ea-74f55f5c0e12')"
   ]
  },
  {
   "cell_type": "code",
   "execution_count": 54,
   "id": "ae5a96ee-8c1c-4c0f-be7f-85a41faefcd1",
   "metadata": {},
   "outputs": [],
   "source": [
    "for toolCall in aiMessage.tool_calls:\n",
    "    selectedTool={\"add\":add,\"multiply\":multiply}[toolCall['name'].lower()]\n",
    "    toolOutput=selectedTool.invoke(input=toolCall['args'])\n",
    "    messages.append(ToolMessage(content=toolOutput,tool_call_id=toolCall['id']))"
   ]
  },
  {
   "cell_type": "code",
   "execution_count": 55,
   "id": "671b0e70-7e26-41af-ae8e-4725baa66988",
   "metadata": {},
   "outputs": [
    {
     "data": {
      "text/plain": [
       "[HumanMessage(content='What is  3*12? Also, what is 11+49?', additional_kwargs={}, response_metadata={}),\n",
       " AIMessage(content='', additional_kwargs={'function_call': {'name': 'add', 'arguments': '{\"a\": 11.0, \"b\": 49.0}'}}, response_metadata={'prompt_feedback': {'block_reason': 0, 'safety_ratings': []}, 'finish_reason': 'STOP', 'model_name': 'gemini-2.0-flash-001', 'safety_ratings': []}, id='run-0bfc3495-4560-484c-b8fa-55cf0ee8869b-0', tool_calls=[{'name': 'multiply', 'args': {'a': 3.0, 'b': 12.0}, 'id': 'fbf011b2-3253-4f49-a725-00dbc4239680', 'type': 'tool_call'}, {'name': 'add', 'args': {'a': 11.0, 'b': 49.0}, 'id': '46bebb35-c8bc-4b59-a30d-ce0c4bf4fc8e', 'type': 'tool_call'}], usage_metadata={'input_tokens': 54, 'output_tokens': 10, 'total_tokens': 64, 'input_token_details': {'cache_read': 0}}),\n",
       " ToolMessage(content='36', tool_call_id='fbf011b2-3253-4f49-a725-00dbc4239680'),\n",
       " ToolMessage(content='60', tool_call_id='46bebb35-c8bc-4b59-a30d-ce0c4bf4fc8e')]"
      ]
     },
     "execution_count": 55,
     "metadata": {},
     "output_type": "execute_result"
    }
   ],
   "source": [
    "messages"
   ]
  },
  {
   "cell_type": "code",
   "execution_count": 56,
   "id": "5c84391b-815d-43fa-939d-49abb0e64a64",
   "metadata": {},
   "outputs": [
    {
     "data": {
      "text/plain": [
       "AIMessage(content='3 multiplied by 12 is 36, and 11 plus 49 is 60.', additional_kwargs={}, response_metadata={'prompt_feedback': {'block_reason': 0, 'safety_ratings': []}, 'finish_reason': 'STOP', 'model_name': 'gemini-2.0-flash-001', 'safety_ratings': []}, id='run-97165922-b79e-4ae8-9b1c-4eeaee1a6eb6-0', usage_metadata={'input_tokens': 70, 'output_tokens': 24, 'total_tokens': 94, 'input_token_details': {'cache_read': 0}})"
      ]
     },
     "execution_count": 56,
     "metadata": {},
     "output_type": "execute_result"
    }
   ],
   "source": [
    "llmWithTools.invoke(input=messages)"
   ]
  },
  {
   "cell_type": "code",
   "execution_count": 58,
   "id": "fd3fc905-b9ee-400f-9c1a-35914dcbf0ad",
   "metadata": {},
   "outputs": [
    {
     "data": {
      "text/plain": [
       "'3 multiplied by 12 is 36, and 11 plus 49 is 60.'"
      ]
     },
     "execution_count": 58,
     "metadata": {},
     "output_type": "execute_result"
    }
   ],
   "source": [
    "llmWithTools.invoke(input=messages).content"
   ]
  },
  {
   "cell_type": "code",
   "execution_count": 59,
   "id": "7d1a6355-b70c-4b45-85dc-39d399c2d7e8",
   "metadata": {},
   "outputs": [
    {
     "data": {
      "text/plain": [
       "4"
      ]
     },
     "execution_count": 59,
     "metadata": {},
     "output_type": "execute_result"
    }
   ],
   "source": [
    "len(messages)"
   ]
  },
  {
   "cell_type": "markdown",
   "id": "cbb107d9-0d26-4328-b426-d238e5d7ab24",
   "metadata": {},
   "source": [
    "<h3>Few Shot Prompting</h3>"
   ]
  },
  {
   "cell_type": "code",
   "execution_count": 60,
   "id": "1713a6af-add1-4866-8f1d-93154de18083",
   "metadata": {},
   "outputs": [],
   "source": [
    "examples=[\n",
    "    HumanMessage(\n",
    "        content=\"What's the product of 317253 and 128472 plus four\",\n",
    "        name=\"exampleUser\"\n",
    "    ),\n",
    "    AIMessage(\n",
    "        content=\"\",\n",
    "        name=\"exampleAssistant\",\n",
    "        tool_calls=[\n",
    "            {\"name\":\"multiply\",\"args\":{\"x\":317253,\"y\":128472},\"id\":\"1\"}\n",
    "        ]\n",
    "    ),\n",
    "    ToolMessage(content=\"16505054784\",tool_call_id=\"1\"),\n",
    "    AIMessage(\n",
    "        content=\"\",\n",
    "        name=\"exampleAssistant\",\n",
    "        tool_calls=[\n",
    "            {\"name\":\"add\",\"args\":{\"x\":16505054784,\"y\":4},\"id\":\"2\"}\n",
    "        ]\n",
    "    ),\n",
    "    ToolMessage(content=\"16505054784\",tool_call_id=\"2\"),\n",
    "    AIMessage(\n",
    "        content=\"The product of 317253 and 128472 plus four is 16505054784\",\n",
    "        name=\"exampleAssistant\"\n",
    "    ),\n",
    "]"
   ]
  },
  {
   "cell_type": "code",
   "execution_count": 61,
   "id": "3910090e-7600-44af-a01e-0a2f7dd1aea1",
   "metadata": {},
   "outputs": [],
   "source": [
    "fewShotPromptTemplate=ChatPromptTemplate.from_messages(\n",
    "    [\n",
    "        (\"system\",\"\"\" \n",
    "                You are bad at math but are an expert at using a calculator. \n",
    "                Use past tool usage as an example of how to correctly use the tools.\n",
    "        \"\"\"),\n",
    "        *examples,\n",
    "        (\"human\",\"{query}\")\n",
    "    ]\n",
    ")"
   ]
  },
  {
   "cell_type": "code",
   "execution_count": 62,
   "id": "8e872646-8387-4f58-b9d9-5397cec947a5",
   "metadata": {},
   "outputs": [],
   "source": [
    "chain=RunnablePassthrough()|fewShotPromptTemplate|llmWithTools"
   ]
  },
  {
   "cell_type": "code",
   "execution_count": 70,
   "id": "5c806279-826f-4982-b74a-f42adb63cd96",
   "metadata": {},
   "outputs": [],
   "source": [
    "response=chain.invoke(input={'query':'What is 119 times 8 plus 20 times 23'})"
   ]
  },
  {
   "cell_type": "code",
   "execution_count": 71,
   "id": "08c02d6b-5eea-42da-b993-041d2755fcc3",
   "metadata": {},
   "outputs": [
    {
     "data": {
      "text/plain": [
       "AIMessage(content='', additional_kwargs={'function_call': {'name': 'multiply', 'arguments': '{\"y\": 8.0, \"x\": 119.0}'}}, response_metadata={'prompt_feedback': {'block_reason': 0, 'safety_ratings': []}, 'finish_reason': 'STOP', 'model_name': 'gemini-2.0-flash-001', 'safety_ratings': []}, id='run-f68b94ed-bbba-4ab6-8c7e-7875a7e9b9ba-0', tool_calls=[{'name': 'multiply', 'args': {'y': 8.0, 'x': 119.0}, 'id': '1f87f9f2-efa2-44ed-b9bd-ce264dd12eeb', 'type': 'tool_call'}], usage_metadata={'input_tokens': 161, 'output_tokens': 5, 'total_tokens': 166, 'input_token_details': {'cache_read': 0}})"
      ]
     },
     "execution_count": 71,
     "metadata": {},
     "output_type": "execute_result"
    }
   ],
   "source": [
    "response"
   ]
  },
  {
   "cell_type": "code",
   "execution_count": 72,
   "id": "a5d48e1c-722c-4ef8-9002-933b439f353f",
   "metadata": {},
   "outputs": [
    {
     "data": {
      "text/plain": [
       "[{'name': 'multiply',\n",
       "  'args': {'y': 8.0, 'x': 119.0},\n",
       "  'id': '1f87f9f2-efa2-44ed-b9bd-ce264dd12eeb',\n",
       "  'type': 'tool_call'}]"
      ]
     },
     "execution_count": 72,
     "metadata": {},
     "output_type": "execute_result"
    }
   ],
   "source": [
    "response.tool_calls"
   ]
  },
  {
   "cell_type": "markdown",
   "id": "a04d45d6-678e-4022-86bc-4c56df1e5c69",
   "metadata": {},
   "source": [
    "<h3>Game Changer</h3>"
   ]
  },
  {
   "cell_type": "code",
   "execution_count": 131,
   "id": "0b45c8f7-adc6-4917-9305-17cad0656b11",
   "metadata": {},
   "outputs": [],
   "source": [
    "llmWithTools=llmOpenAI.bind_tools(\n",
    "    tools=tools\n",
    ")"
   ]
  },
  {
   "cell_type": "code",
   "execution_count": 132,
   "id": "b2b7aedf-f826-4f74-a04f-7ad28ac67235",
   "metadata": {},
   "outputs": [],
   "source": [
    "query='What is 119 times 8 plus 20 times 23'"
   ]
  },
  {
   "cell_type": "code",
   "execution_count": 133,
   "id": "e8d716d1-fe1e-4590-a0f1-282232cd6bc5",
   "metadata": {},
   "outputs": [],
   "source": [
    "message=[HumanMessage(content=query,id=1)]"
   ]
  },
  {
   "cell_type": "code",
   "execution_count": 134,
   "id": "44e9d264-0b17-4c84-b335-6ff2b00c528c",
   "metadata": {},
   "outputs": [
    {
     "data": {
      "text/plain": [
       "AIMessage(content='', additional_kwargs={'tool_calls': [{'id': 'call_Z4ce1iSqpS28VSSXmOgU2FjJ', 'function': {'arguments': '{\"a\": 119, \"b\": 8}', 'name': 'multiply'}, 'type': 'function'}, {'id': 'call_6jJbadlbJ4j4Kq9BEtYwFFSX', 'function': {'arguments': '{\"a\": 20, \"b\": 23}', 'name': 'multiply'}, 'type': 'function'}], 'refusal': None}, response_metadata={'token_usage': {'completion_tokens': 50, 'prompt_tokens': 98, 'total_tokens': 148, 'completion_tokens_details': {'accepted_prediction_tokens': 0, 'audio_tokens': 0, 'reasoning_tokens': 0, 'rejected_prediction_tokens': 0}, 'prompt_tokens_details': {'audio_tokens': 0, 'cached_tokens': 0}}, 'model_name': 'gpt-4o-mini-2024-07-18', 'system_fingerprint': 'fp_34a54ae93c', 'id': 'chatcmpl-Be2hUFsDLsyMiuzN43PLpt0WicXyO', 'finish_reason': 'tool_calls', 'logprobs': None}, id='run-bccc2ae4-5ce8-4267-acea-6745196f5594-0', tool_calls=[{'name': 'multiply', 'args': {'a': 119, 'b': 8}, 'id': 'call_Z4ce1iSqpS28VSSXmOgU2FjJ', 'type': 'tool_call'}, {'name': 'multiply', 'args': {'a': 20, 'b': 23}, 'id': 'call_6jJbadlbJ4j4Kq9BEtYwFFSX', 'type': 'tool_call'}], usage_metadata={'input_tokens': 98, 'output_tokens': 50, 'total_tokens': 148, 'input_token_details': {'audio': 0, 'cache_read': 0}, 'output_token_details': {'audio': 0, 'reasoning': 0}})"
      ]
     },
     "execution_count": 134,
     "metadata": {},
     "output_type": "execute_result"
    }
   ],
   "source": [
    "response=llmWithTools.invoke(input=message)\n",
    "response"
   ]
  },
  {
   "cell_type": "code",
   "execution_count": 135,
   "id": "824cb017-91d8-4e31-9ed9-d303c9490367",
   "metadata": {},
   "outputs": [],
   "source": [
    "message.append(response)"
   ]
  },
  {
   "cell_type": "code",
   "execution_count": 136,
   "id": "c937cea8-7adb-4f81-b9c0-83a0f2f01604",
   "metadata": {},
   "outputs": [
    {
     "data": {
      "text/plain": [
       "[HumanMessage(content='What is 119 times 8 plus 20 times 23', additional_kwargs={}, response_metadata={}, id='1'),\n",
       " AIMessage(content='', additional_kwargs={'tool_calls': [{'id': 'call_Z4ce1iSqpS28VSSXmOgU2FjJ', 'function': {'arguments': '{\"a\": 119, \"b\": 8}', 'name': 'multiply'}, 'type': 'function'}, {'id': 'call_6jJbadlbJ4j4Kq9BEtYwFFSX', 'function': {'arguments': '{\"a\": 20, \"b\": 23}', 'name': 'multiply'}, 'type': 'function'}], 'refusal': None}, response_metadata={'token_usage': {'completion_tokens': 50, 'prompt_tokens': 98, 'total_tokens': 148, 'completion_tokens_details': {'accepted_prediction_tokens': 0, 'audio_tokens': 0, 'reasoning_tokens': 0, 'rejected_prediction_tokens': 0}, 'prompt_tokens_details': {'audio_tokens': 0, 'cached_tokens': 0}}, 'model_name': 'gpt-4o-mini-2024-07-18', 'system_fingerprint': 'fp_34a54ae93c', 'id': 'chatcmpl-Be2hUFsDLsyMiuzN43PLpt0WicXyO', 'finish_reason': 'tool_calls', 'logprobs': None}, id='run-bccc2ae4-5ce8-4267-acea-6745196f5594-0', tool_calls=[{'name': 'multiply', 'args': {'a': 119, 'b': 8}, 'id': 'call_Z4ce1iSqpS28VSSXmOgU2FjJ', 'type': 'tool_call'}, {'name': 'multiply', 'args': {'a': 20, 'b': 23}, 'id': 'call_6jJbadlbJ4j4Kq9BEtYwFFSX', 'type': 'tool_call'}], usage_metadata={'input_tokens': 98, 'output_tokens': 50, 'total_tokens': 148, 'input_token_details': {'audio': 0, 'cache_read': 0}, 'output_token_details': {'audio': 0, 'reasoning': 0}})]"
      ]
     },
     "execution_count": 136,
     "metadata": {},
     "output_type": "execute_result"
    }
   ],
   "source": [
    "message"
   ]
  },
  {
   "cell_type": "code",
   "execution_count": 137,
   "id": "08cc48c9-8c88-4741-954c-1aa4a7624a26",
   "metadata": {},
   "outputs": [],
   "source": [
    "# llmWithAlwaysCall.invoke(input=message)  # will throw an error, hence needs to be executed the below code"
   ]
  },
  {
   "cell_type": "code",
   "execution_count": 138,
   "id": "5324d6e2-d783-428f-82cb-3c9d60e6c051",
   "metadata": {},
   "outputs": [],
   "source": [
    "for toolCall in message[-1].tool_calls:\n",
    "    selectedTool={\"add\":add,\"multiply\":multiply}[toolCall['name'].lower()]\n",
    "    toolOutput=selectedTool.invoke(input=toolCall['args'])\n",
    "    message.append(ToolMessage(content=toolOutput,tool_call_id=toolCall['id']))"
   ]
  },
  {
   "cell_type": "code",
   "execution_count": 139,
   "id": "4b57d166-b166-456e-9a8d-a7423d22af34",
   "metadata": {},
   "outputs": [
    {
     "data": {
      "text/plain": [
       "[HumanMessage(content='What is 119 times 8 plus 20 times 23', additional_kwargs={}, response_metadata={}, id='1'),\n",
       " AIMessage(content='', additional_kwargs={'tool_calls': [{'id': 'call_Z4ce1iSqpS28VSSXmOgU2FjJ', 'function': {'arguments': '{\"a\": 119, \"b\": 8}', 'name': 'multiply'}, 'type': 'function'}, {'id': 'call_6jJbadlbJ4j4Kq9BEtYwFFSX', 'function': {'arguments': '{\"a\": 20, \"b\": 23}', 'name': 'multiply'}, 'type': 'function'}], 'refusal': None}, response_metadata={'token_usage': {'completion_tokens': 50, 'prompt_tokens': 98, 'total_tokens': 148, 'completion_tokens_details': {'accepted_prediction_tokens': 0, 'audio_tokens': 0, 'reasoning_tokens': 0, 'rejected_prediction_tokens': 0}, 'prompt_tokens_details': {'audio_tokens': 0, 'cached_tokens': 0}}, 'model_name': 'gpt-4o-mini-2024-07-18', 'system_fingerprint': 'fp_34a54ae93c', 'id': 'chatcmpl-Be2hUFsDLsyMiuzN43PLpt0WicXyO', 'finish_reason': 'tool_calls', 'logprobs': None}, id='run-bccc2ae4-5ce8-4267-acea-6745196f5594-0', tool_calls=[{'name': 'multiply', 'args': {'a': 119, 'b': 8}, 'id': 'call_Z4ce1iSqpS28VSSXmOgU2FjJ', 'type': 'tool_call'}, {'name': 'multiply', 'args': {'a': 20, 'b': 23}, 'id': 'call_6jJbadlbJ4j4Kq9BEtYwFFSX', 'type': 'tool_call'}], usage_metadata={'input_tokens': 98, 'output_tokens': 50, 'total_tokens': 148, 'input_token_details': {'audio': 0, 'cache_read': 0}, 'output_token_details': {'audio': 0, 'reasoning': 0}}),\n",
       " ToolMessage(content='952', tool_call_id='call_Z4ce1iSqpS28VSSXmOgU2FjJ'),\n",
       " ToolMessage(content='460', tool_call_id='call_6jJbadlbJ4j4Kq9BEtYwFFSX')]"
      ]
     },
     "execution_count": 139,
     "metadata": {},
     "output_type": "execute_result"
    }
   ],
   "source": [
    "message"
   ]
  },
  {
   "cell_type": "code",
   "execution_count": 140,
   "id": "cfe7edaa-a75c-4b8b-b822-602e7956eaf7",
   "metadata": {},
   "outputs": [
    {
     "data": {
      "text/plain": [
       "AIMessage(content='', additional_kwargs={'tool_calls': [{'id': 'call_T5aIVAKIPBcLctb9dDSJjOgp', 'function': {'arguments': '{\"a\":952,\"b\":460}', 'name': 'add'}, 'type': 'function'}], 'refusal': None}, response_metadata={'token_usage': {'completion_tokens': 17, 'prompt_tokens': 164, 'total_tokens': 181, 'completion_tokens_details': {'accepted_prediction_tokens': 0, 'audio_tokens': 0, 'reasoning_tokens': 0, 'rejected_prediction_tokens': 0}, 'prompt_tokens_details': {'audio_tokens': 0, 'cached_tokens': 0}}, 'model_name': 'gpt-4o-mini-2024-07-18', 'system_fingerprint': 'fp_34a54ae93c', 'id': 'chatcmpl-Be2hi5hPBVxCzCQ5qekzPgLILuCe1', 'finish_reason': 'tool_calls', 'logprobs': None}, id='run-6eacf92d-c5df-404e-b40b-e9487c8baa7c-0', tool_calls=[{'name': 'add', 'args': {'a': 952, 'b': 460}, 'id': 'call_T5aIVAKIPBcLctb9dDSJjOgp', 'type': 'tool_call'}], usage_metadata={'input_tokens': 164, 'output_tokens': 17, 'total_tokens': 181, 'input_token_details': {'audio': 0, 'cache_read': 0}, 'output_token_details': {'audio': 0, 'reasoning': 0}})"
      ]
     },
     "execution_count": 140,
     "metadata": {},
     "output_type": "execute_result"
    }
   ],
   "source": [
    "response=llmWithTools.invoke(input=message)\n",
    "response"
   ]
  },
  {
   "cell_type": "code",
   "execution_count": 141,
   "id": "3131b4c6-eee7-4f42-bd60-54a324b45790",
   "metadata": {},
   "outputs": [],
   "source": [
    "message.append(response)"
   ]
  },
  {
   "cell_type": "code",
   "execution_count": 142,
   "id": "8fc65d0e-f46a-4074-8da3-aac0e494f628",
   "metadata": {},
   "outputs": [
    {
     "data": {
      "text/plain": [
       "[HumanMessage(content='What is 119 times 8 plus 20 times 23', additional_kwargs={}, response_metadata={}, id='1'),\n",
       " AIMessage(content='', additional_kwargs={'tool_calls': [{'id': 'call_Z4ce1iSqpS28VSSXmOgU2FjJ', 'function': {'arguments': '{\"a\": 119, \"b\": 8}', 'name': 'multiply'}, 'type': 'function'}, {'id': 'call_6jJbadlbJ4j4Kq9BEtYwFFSX', 'function': {'arguments': '{\"a\": 20, \"b\": 23}', 'name': 'multiply'}, 'type': 'function'}], 'refusal': None}, response_metadata={'token_usage': {'completion_tokens': 50, 'prompt_tokens': 98, 'total_tokens': 148, 'completion_tokens_details': {'accepted_prediction_tokens': 0, 'audio_tokens': 0, 'reasoning_tokens': 0, 'rejected_prediction_tokens': 0}, 'prompt_tokens_details': {'audio_tokens': 0, 'cached_tokens': 0}}, 'model_name': 'gpt-4o-mini-2024-07-18', 'system_fingerprint': 'fp_34a54ae93c', 'id': 'chatcmpl-Be2hUFsDLsyMiuzN43PLpt0WicXyO', 'finish_reason': 'tool_calls', 'logprobs': None}, id='run-bccc2ae4-5ce8-4267-acea-6745196f5594-0', tool_calls=[{'name': 'multiply', 'args': {'a': 119, 'b': 8}, 'id': 'call_Z4ce1iSqpS28VSSXmOgU2FjJ', 'type': 'tool_call'}, {'name': 'multiply', 'args': {'a': 20, 'b': 23}, 'id': 'call_6jJbadlbJ4j4Kq9BEtYwFFSX', 'type': 'tool_call'}], usage_metadata={'input_tokens': 98, 'output_tokens': 50, 'total_tokens': 148, 'input_token_details': {'audio': 0, 'cache_read': 0}, 'output_token_details': {'audio': 0, 'reasoning': 0}}),\n",
       " ToolMessage(content='952', tool_call_id='call_Z4ce1iSqpS28VSSXmOgU2FjJ'),\n",
       " ToolMessage(content='460', tool_call_id='call_6jJbadlbJ4j4Kq9BEtYwFFSX'),\n",
       " AIMessage(content='', additional_kwargs={'tool_calls': [{'id': 'call_T5aIVAKIPBcLctb9dDSJjOgp', 'function': {'arguments': '{\"a\":952,\"b\":460}', 'name': 'add'}, 'type': 'function'}], 'refusal': None}, response_metadata={'token_usage': {'completion_tokens': 17, 'prompt_tokens': 164, 'total_tokens': 181, 'completion_tokens_details': {'accepted_prediction_tokens': 0, 'audio_tokens': 0, 'reasoning_tokens': 0, 'rejected_prediction_tokens': 0}, 'prompt_tokens_details': {'audio_tokens': 0, 'cached_tokens': 0}}, 'model_name': 'gpt-4o-mini-2024-07-18', 'system_fingerprint': 'fp_34a54ae93c', 'id': 'chatcmpl-Be2hi5hPBVxCzCQ5qekzPgLILuCe1', 'finish_reason': 'tool_calls', 'logprobs': None}, id='run-6eacf92d-c5df-404e-b40b-e9487c8baa7c-0', tool_calls=[{'name': 'add', 'args': {'a': 952, 'b': 460}, 'id': 'call_T5aIVAKIPBcLctb9dDSJjOgp', 'type': 'tool_call'}], usage_metadata={'input_tokens': 164, 'output_tokens': 17, 'total_tokens': 181, 'input_token_details': {'audio': 0, 'cache_read': 0}, 'output_token_details': {'audio': 0, 'reasoning': 0}})]"
      ]
     },
     "execution_count": 142,
     "metadata": {},
     "output_type": "execute_result"
    }
   ],
   "source": [
    "message"
   ]
  },
  {
   "cell_type": "code",
   "execution_count": 143,
   "id": "34ff5411-8d77-4e7f-a6af-8e515cc42d20",
   "metadata": {},
   "outputs": [],
   "source": [
    "for toolCall in message[-1].tool_calls:\n",
    "    selectedTool={\"add\":add,\"multiply\":multiply}[toolCall['name'].lower()]\n",
    "    toolOutput=selectedTool.invoke(input=toolCall['args'])\n",
    "    message.append(ToolMessage(content=toolOutput,tool_call_id=toolCall['id']))"
   ]
  },
  {
   "cell_type": "code",
   "execution_count": 144,
   "id": "7449777e-ca68-489c-aa19-19eb2282d9b7",
   "metadata": {},
   "outputs": [
    {
     "data": {
      "text/plain": [
       "[HumanMessage(content='What is 119 times 8 plus 20 times 23', additional_kwargs={}, response_metadata={}, id='1'),\n",
       " AIMessage(content='', additional_kwargs={'tool_calls': [{'id': 'call_Z4ce1iSqpS28VSSXmOgU2FjJ', 'function': {'arguments': '{\"a\": 119, \"b\": 8}', 'name': 'multiply'}, 'type': 'function'}, {'id': 'call_6jJbadlbJ4j4Kq9BEtYwFFSX', 'function': {'arguments': '{\"a\": 20, \"b\": 23}', 'name': 'multiply'}, 'type': 'function'}], 'refusal': None}, response_metadata={'token_usage': {'completion_tokens': 50, 'prompt_tokens': 98, 'total_tokens': 148, 'completion_tokens_details': {'accepted_prediction_tokens': 0, 'audio_tokens': 0, 'reasoning_tokens': 0, 'rejected_prediction_tokens': 0}, 'prompt_tokens_details': {'audio_tokens': 0, 'cached_tokens': 0}}, 'model_name': 'gpt-4o-mini-2024-07-18', 'system_fingerprint': 'fp_34a54ae93c', 'id': 'chatcmpl-Be2hUFsDLsyMiuzN43PLpt0WicXyO', 'finish_reason': 'tool_calls', 'logprobs': None}, id='run-bccc2ae4-5ce8-4267-acea-6745196f5594-0', tool_calls=[{'name': 'multiply', 'args': {'a': 119, 'b': 8}, 'id': 'call_Z4ce1iSqpS28VSSXmOgU2FjJ', 'type': 'tool_call'}, {'name': 'multiply', 'args': {'a': 20, 'b': 23}, 'id': 'call_6jJbadlbJ4j4Kq9BEtYwFFSX', 'type': 'tool_call'}], usage_metadata={'input_tokens': 98, 'output_tokens': 50, 'total_tokens': 148, 'input_token_details': {'audio': 0, 'cache_read': 0}, 'output_token_details': {'audio': 0, 'reasoning': 0}}),\n",
       " ToolMessage(content='952', tool_call_id='call_Z4ce1iSqpS28VSSXmOgU2FjJ'),\n",
       " ToolMessage(content='460', tool_call_id='call_6jJbadlbJ4j4Kq9BEtYwFFSX'),\n",
       " AIMessage(content='', additional_kwargs={'tool_calls': [{'id': 'call_T5aIVAKIPBcLctb9dDSJjOgp', 'function': {'arguments': '{\"a\":952,\"b\":460}', 'name': 'add'}, 'type': 'function'}], 'refusal': None}, response_metadata={'token_usage': {'completion_tokens': 17, 'prompt_tokens': 164, 'total_tokens': 181, 'completion_tokens_details': {'accepted_prediction_tokens': 0, 'audio_tokens': 0, 'reasoning_tokens': 0, 'rejected_prediction_tokens': 0}, 'prompt_tokens_details': {'audio_tokens': 0, 'cached_tokens': 0}}, 'model_name': 'gpt-4o-mini-2024-07-18', 'system_fingerprint': 'fp_34a54ae93c', 'id': 'chatcmpl-Be2hi5hPBVxCzCQ5qekzPgLILuCe1', 'finish_reason': 'tool_calls', 'logprobs': None}, id='run-6eacf92d-c5df-404e-b40b-e9487c8baa7c-0', tool_calls=[{'name': 'add', 'args': {'a': 952, 'b': 460}, 'id': 'call_T5aIVAKIPBcLctb9dDSJjOgp', 'type': 'tool_call'}], usage_metadata={'input_tokens': 164, 'output_tokens': 17, 'total_tokens': 181, 'input_token_details': {'audio': 0, 'cache_read': 0}, 'output_token_details': {'audio': 0, 'reasoning': 0}}),\n",
       " ToolMessage(content='1412', tool_call_id='call_T5aIVAKIPBcLctb9dDSJjOgp')]"
      ]
     },
     "execution_count": 144,
     "metadata": {},
     "output_type": "execute_result"
    }
   ],
   "source": [
    "message"
   ]
  },
  {
   "cell_type": "code",
   "execution_count": 145,
   "id": "58dd7030-b96e-4725-ad24-f932c10c6612",
   "metadata": {},
   "outputs": [
    {
     "data": {
      "text/plain": [
       "AIMessage(content='The result of \\\\( 119 \\\\times 8 + 20 \\\\times 23 \\\\) is \\\\( 1412 \\\\).', additional_kwargs={'refusal': None}, response_metadata={'token_usage': {'completion_tokens': 27, 'prompt_tokens': 190, 'total_tokens': 217, 'completion_tokens_details': {'accepted_prediction_tokens': 0, 'audio_tokens': 0, 'reasoning_tokens': 0, 'rejected_prediction_tokens': 0}, 'prompt_tokens_details': {'audio_tokens': 0, 'cached_tokens': 0}}, 'model_name': 'gpt-4o-mini-2024-07-18', 'system_fingerprint': 'fp_34a54ae93c', 'id': 'chatcmpl-Be2ipslRkGMZ3mqDjNDCUkWuR9nFf', 'finish_reason': 'stop', 'logprobs': None}, id='run-56a99675-9e87-4c0d-a211-b5d22f5a8fb4-0', usage_metadata={'input_tokens': 190, 'output_tokens': 27, 'total_tokens': 217, 'input_token_details': {'audio': 0, 'cache_read': 0}, 'output_token_details': {'audio': 0, 'reasoning': 0}})"
      ]
     },
     "execution_count": 145,
     "metadata": {},
     "output_type": "execute_result"
    }
   ],
   "source": [
    "response=llmWithTools.invoke(input=message)\n",
    "response"
   ]
  },
  {
   "cell_type": "code",
   "execution_count": 147,
   "id": "bcc12e90-b251-4b19-8604-d1011a71b3af",
   "metadata": {},
   "outputs": [
    {
     "name": "stdout",
     "output_type": "stream",
     "text": [
      "The result of \\( 119 \\times 8 + 20 \\times 23 \\) is \\( 1412 \\).\n"
     ]
    }
   ],
   "source": [
    "print(response.content)"
   ]
  },
  {
   "cell_type": "code",
   "execution_count": null,
   "id": "c88a23d5-e13a-4a03-94ff-daccdaa6dc71",
   "metadata": {},
   "outputs": [],
   "source": []
  }
 ],
 "metadata": {
  "kernelspec": {
   "display_name": "lcnenv",
   "language": "python",
   "name": "python3"
  },
  "language_info": {
   "codemirror_mode": {
    "name": "ipython",
    "version": 3
   },
   "file_extension": ".py",
   "mimetype": "text/x-python",
   "name": "python",
   "nbconvert_exporter": "python",
   "pygments_lexer": "ipython3",
   "version": "3.11.11"
  }
 },
 "nbformat": 4,
 "nbformat_minor": 5
}
